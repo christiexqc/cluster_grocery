{
 "cells": [
  {
   "cell_type": "code",
   "execution_count": 1,
   "metadata": {},
   "outputs": [
    {
     "name": "stderr",
     "output_type": "stream",
     "text": [
      "//miniconda3/lib/python3.7/site-packages/statsmodels/tools/_testing.py:19: FutureWarning: pandas.util.testing is deprecated. Use the functions in the public API at pandas.testing instead.\n",
      "  import pandas.util.testing as tm\n"
     ]
    }
   ],
   "source": [
    "import pandas\n",
    "import numpy as np\n",
    "import matplotlib.pyplot as plt\n",
    "import seaborn as sns\n",
    "pandas.set_option('display.max_columns', 10)\n",
    "pandas.set_option('display.width', 350)"
   ]
  },
  {
   "cell_type": "code",
   "execution_count": 2,
   "metadata": {},
   "outputs": [],
   "source": [
    "#read the two files\n",
    "item_name=pandas.read_csv(\"./dataset/grocery/item_to_id.csv\")"
   ]
  },
  {
   "cell_type": "code",
   "execution_count": 5,
   "metadata": {},
   "outputs": [
    {
     "data": {
      "text/html": [
       "<div>\n",
       "<style scoped>\n",
       "    .dataframe tbody tr th:only-of-type {\n",
       "        vertical-align: middle;\n",
       "    }\n",
       "\n",
       "    .dataframe tbody tr th {\n",
       "        vertical-align: top;\n",
       "    }\n",
       "\n",
       "    .dataframe thead th {\n",
       "        text-align: right;\n",
       "    }\n",
       "</style>\n",
       "<table border=\"1\" class=\"dataframe\">\n",
       "  <thead>\n",
       "    <tr style=\"text-align: right;\">\n",
       "      <th></th>\n",
       "      <th>Item_name</th>\n",
       "      <th>Item_id</th>\n",
       "    </tr>\n",
       "  </thead>\n",
       "  <tbody>\n",
       "    <tr>\n",
       "      <th>0</th>\n",
       "      <td>coffee</td>\n",
       "      <td>43</td>\n",
       "    </tr>\n",
       "    <tr>\n",
       "      <th>1</th>\n",
       "      <td>tea</td>\n",
       "      <td>23</td>\n",
       "    </tr>\n",
       "    <tr>\n",
       "      <th>2</th>\n",
       "      <td>juice</td>\n",
       "      <td>38</td>\n",
       "    </tr>\n",
       "    <tr>\n",
       "      <th>3</th>\n",
       "      <td>soda</td>\n",
       "      <td>9</td>\n",
       "    </tr>\n",
       "    <tr>\n",
       "      <th>4</th>\n",
       "      <td>sandwich loaves</td>\n",
       "      <td>39</td>\n",
       "    </tr>\n",
       "  </tbody>\n",
       "</table>\n",
       "</div>"
      ],
      "text/plain": [
       "         Item_name  Item_id\n",
       "0           coffee       43\n",
       "1              tea       23\n",
       "2            juice       38\n",
       "3             soda        9\n",
       "4  sandwich loaves       39"
      ]
     },
     "execution_count": 5,
     "metadata": {},
     "output_type": "execute_result"
    }
   ],
   "source": [
    "item_name.head()"
   ]
  },
  {
   "cell_type": "code",
   "execution_count": 3,
   "metadata": {},
   "outputs": [],
   "source": [
    "#read the two files\n",
    "purchase=pandas.read_csv(\"./dataset/grocery/purchase_history.csv\")"
   ]
  },
  {
   "cell_type": "code",
   "execution_count": 4,
   "metadata": {},
   "outputs": [
    {
     "name": "stdout",
     "output_type": "stream",
     "text": [
      "   user_id                                                 id\n",
      "0   222087                                              27,26\n",
      "1  1343649                                            6,47,17\n",
      "2   404134                       18,12,23,22,27,43,38,20,35,1\n",
      "3  1110200                                 9,23,2,20,26,47,37\n",
      "4   224107  31,18,5,13,1,21,48,16,26,2,44,32,20,37,42,35,4...\n"
     ]
    }
   ],
   "source": [
    "print(purchase.head())"
   ]
  },
  {
   "cell_type": "code",
   "execution_count": 6,
   "metadata": {},
   "outputs": [],
   "source": [
    "#let's split on comma and get the length\n",
    "purchase['item_count'] = purchase['id'].apply(lambda x: len(x.split(',')))"
   ]
  },
  {
   "cell_type": "code",
   "execution_count": 7,
   "metadata": {},
   "outputs": [],
   "source": [
    "#so now we can simply group by user, sum item_count and pick the max\n",
    "max_bought = purchase.groupby('user_id')['item_count'].sum().reset_index()"
   ]
  },
  {
   "cell_type": "code",
   "execution_count": 8,
   "metadata": {},
   "outputs": [
    {
     "data": {
      "text/html": [
       "<div>\n",
       "<style scoped>\n",
       "    .dataframe tbody tr th:only-of-type {\n",
       "        vertical-align: middle;\n",
       "    }\n",
       "\n",
       "    .dataframe tbody tr th {\n",
       "        vertical-align: top;\n",
       "    }\n",
       "\n",
       "    .dataframe thead th {\n",
       "        text-align: right;\n",
       "    }\n",
       "</style>\n",
       "<table border=\"1\" class=\"dataframe\">\n",
       "  <thead>\n",
       "    <tr style=\"text-align: right;\">\n",
       "      <th></th>\n",
       "      <th>user_id</th>\n",
       "      <th>item_count</th>\n",
       "    </tr>\n",
       "  </thead>\n",
       "  <tbody>\n",
       "    <tr>\n",
       "      <th>0</th>\n",
       "      <td>47</td>\n",
       "      <td>13</td>\n",
       "    </tr>\n",
       "    <tr>\n",
       "      <th>1</th>\n",
       "      <td>68</td>\n",
       "      <td>8</td>\n",
       "    </tr>\n",
       "    <tr>\n",
       "      <th>2</th>\n",
       "      <td>113</td>\n",
       "      <td>11</td>\n",
       "    </tr>\n",
       "    <tr>\n",
       "      <th>3</th>\n",
       "      <td>123</td>\n",
       "      <td>4</td>\n",
       "    </tr>\n",
       "    <tr>\n",
       "      <th>4</th>\n",
       "      <td>223</td>\n",
       "      <td>11</td>\n",
       "    </tr>\n",
       "  </tbody>\n",
       "</table>\n",
       "</div>"
      ],
      "text/plain": [
       "   user_id  item_count\n",
       "0       47          13\n",
       "1       68           8\n",
       "2      113          11\n",
       "3      123           4\n",
       "4      223          11"
      ]
     },
     "execution_count": 8,
     "metadata": {},
     "output_type": "execute_result"
    }
   ],
   "source": [
    "max_bought.head()"
   ]
  },
  {
   "cell_type": "code",
   "execution_count": 9,
   "metadata": {},
   "outputs": [],
   "source": [
    "max_bought = max_bought.loc[max_bought ['item_count'].idxmax()]"
   ]
  },
  {
   "cell_type": "code",
   "execution_count": 11,
   "metadata": {},
   "outputs": [
    {
     "data": {
      "text/plain": [
       "dtype('int64')"
      ]
     },
     "execution_count": 11,
     "metadata": {},
     "output_type": "execute_result"
    }
   ],
   "source": [
    "max_bought.dtype"
   ]
  },
  {
   "cell_type": "code",
   "execution_count": 10,
   "metadata": {},
   "outputs": [
    {
     "data": {
      "text/plain": [
       "user_id       269335\n",
       "item_count        72\n",
       "Name: 4445, dtype: int64"
      ]
     },
     "execution_count": 10,
     "metadata": {},
     "output_type": "execute_result"
    }
   ],
   "source": [
    "max_bought"
   ]
  },
  {
   "cell_type": "code",
   "execution_count": 13,
   "metadata": {},
   "outputs": [
    {
     "name": "stdout",
     "output_type": "stream",
     "text": [
      "The user with the highest count is 269335 having bought 72 items\n"
     ]
    }
   ],
   "source": [
    "print(\"The user with the highest count is\", max_bought[0], \n",
    "      \"having bought\", max_bought[1], \"items\")"
   ]
  },
  {
   "cell_type": "markdown",
   "metadata": {},
   "source": [
    "Q: For each item, the customer who bought that product the most\n",
    "\n",
    "This is similar to the previous question. We need to group by item and user and find max.\n"
   ]
  },
  {
   "cell_type": "code",
   "execution_count": 14,
   "metadata": {},
   "outputs": [
    {
     "data": {
      "text/html": [
       "<div>\n",
       "<style scoped>\n",
       "    .dataframe tbody tr th:only-of-type {\n",
       "        vertical-align: middle;\n",
       "    }\n",
       "\n",
       "    .dataframe tbody tr th {\n",
       "        vertical-align: top;\n",
       "    }\n",
       "\n",
       "    .dataframe thead th {\n",
       "        text-align: right;\n",
       "    }\n",
       "</style>\n",
       "<table border=\"1\" class=\"dataframe\">\n",
       "  <thead>\n",
       "    <tr style=\"text-align: right;\">\n",
       "      <th></th>\n",
       "      <th>user_id</th>\n",
       "      <th>id</th>\n",
       "      <th>item_count</th>\n",
       "    </tr>\n",
       "  </thead>\n",
       "  <tbody>\n",
       "    <tr>\n",
       "      <th>0</th>\n",
       "      <td>222087</td>\n",
       "      <td>27,26</td>\n",
       "      <td>2</td>\n",
       "    </tr>\n",
       "    <tr>\n",
       "      <th>1</th>\n",
       "      <td>1343649</td>\n",
       "      <td>6,47,17</td>\n",
       "      <td>3</td>\n",
       "    </tr>\n",
       "    <tr>\n",
       "      <th>2</th>\n",
       "      <td>404134</td>\n",
       "      <td>18,12,23,22,27,43,38,20,35,1</td>\n",
       "      <td>10</td>\n",
       "    </tr>\n",
       "    <tr>\n",
       "      <th>3</th>\n",
       "      <td>1110200</td>\n",
       "      <td>9,23,2,20,26,47,37</td>\n",
       "      <td>7</td>\n",
       "    </tr>\n",
       "    <tr>\n",
       "      <th>4</th>\n",
       "      <td>224107</td>\n",
       "      <td>31,18,5,13,1,21,48,16,26,2,44,32,20,37,42,35,4...</td>\n",
       "      <td>20</td>\n",
       "    </tr>\n",
       "  </tbody>\n",
       "</table>\n",
       "</div>"
      ],
      "text/plain": [
       "   user_id                                                 id  item_count\n",
       "0   222087                                              27,26           2\n",
       "1  1343649                                            6,47,17           3\n",
       "2   404134                       18,12,23,22,27,43,38,20,35,1          10\n",
       "3  1110200                                 9,23,2,20,26,47,37           7\n",
       "4   224107  31,18,5,13,1,21,48,16,26,2,44,32,20,37,42,35,4...          20"
      ]
     },
     "execution_count": 14,
     "metadata": {},
     "output_type": "execute_result"
    }
   ],
   "source": [
    "purchase.head()"
   ]
  },
  {
   "cell_type": "code",
   "execution_count": 16,
   "metadata": {},
   "outputs": [],
   "source": [
    "#create a vector of all items purchased in the same order as the original dataset\n",
    "item_id = purchase['id'].str.split(\",\")"
   ]
  },
  {
   "cell_type": "code",
   "execution_count": 18,
   "metadata": {},
   "outputs": [],
   "source": [
    "item_id = np.hstack(item_id)"
   ]
  },
  {
   "cell_type": "code",
   "execution_count": 21,
   "metadata": {},
   "outputs": [],
   "source": [
    "#create a vector with all user_ids. Each user id is repeated the number of times based on to their corresponding item count. So the first user will be repeated twice, etc.\n",
    "user_id = np.repeat(purchase['user_id'], purchase['item_count'])"
   ]
  },
  {
   "cell_type": "code",
   "execution_count": 22,
   "metadata": {},
   "outputs": [],
   "source": [
    "#make them into a dataframe\n",
    "data_long = pandas.DataFrame(user_id)"
   ]
  },
  {
   "cell_type": "code",
   "execution_count": 23,
   "metadata": {},
   "outputs": [
    {
     "data": {
      "text/html": [
       "<div>\n",
       "<style scoped>\n",
       "    .dataframe tbody tr th:only-of-type {\n",
       "        vertical-align: middle;\n",
       "    }\n",
       "\n",
       "    .dataframe tbody tr th {\n",
       "        vertical-align: top;\n",
       "    }\n",
       "\n",
       "    .dataframe thead th {\n",
       "        text-align: right;\n",
       "    }\n",
       "</style>\n",
       "<table border=\"1\" class=\"dataframe\">\n",
       "  <thead>\n",
       "    <tr style=\"text-align: right;\">\n",
       "      <th></th>\n",
       "      <th>user_id</th>\n",
       "    </tr>\n",
       "  </thead>\n",
       "  <tbody>\n",
       "    <tr>\n",
       "      <th>0</th>\n",
       "      <td>222087</td>\n",
       "    </tr>\n",
       "    <tr>\n",
       "      <th>0</th>\n",
       "      <td>222087</td>\n",
       "    </tr>\n",
       "    <tr>\n",
       "      <th>1</th>\n",
       "      <td>1343649</td>\n",
       "    </tr>\n",
       "    <tr>\n",
       "      <th>1</th>\n",
       "      <td>1343649</td>\n",
       "    </tr>\n",
       "    <tr>\n",
       "      <th>1</th>\n",
       "      <td>1343649</td>\n",
       "    </tr>\n",
       "  </tbody>\n",
       "</table>\n",
       "</div>"
      ],
      "text/plain": [
       "   user_id\n",
       "0   222087\n",
       "0   222087\n",
       "1  1343649\n",
       "1  1343649\n",
       "1  1343649"
      ]
     },
     "execution_count": 23,
     "metadata": {},
     "output_type": "execute_result"
    }
   ],
   "source": [
    "data_long.head()"
   ]
  },
  {
   "cell_type": "code",
   "execution_count": 24,
   "metadata": {},
   "outputs": [],
   "source": [
    "data_long['item_id'] = item_id"
   ]
  },
  {
   "cell_type": "code",
   "execution_count": 25,
   "metadata": {},
   "outputs": [
    {
     "data": {
      "text/html": [
       "<div>\n",
       "<style scoped>\n",
       "    .dataframe tbody tr th:only-of-type {\n",
       "        vertical-align: middle;\n",
       "    }\n",
       "\n",
       "    .dataframe tbody tr th {\n",
       "        vertical-align: top;\n",
       "    }\n",
       "\n",
       "    .dataframe thead th {\n",
       "        text-align: right;\n",
       "    }\n",
       "</style>\n",
       "<table border=\"1\" class=\"dataframe\">\n",
       "  <thead>\n",
       "    <tr style=\"text-align: right;\">\n",
       "      <th></th>\n",
       "      <th>user_id</th>\n",
       "      <th>item_id</th>\n",
       "    </tr>\n",
       "  </thead>\n",
       "  <tbody>\n",
       "    <tr>\n",
       "      <th>0</th>\n",
       "      <td>222087</td>\n",
       "      <td>27</td>\n",
       "    </tr>\n",
       "    <tr>\n",
       "      <th>0</th>\n",
       "      <td>222087</td>\n",
       "      <td>26</td>\n",
       "    </tr>\n",
       "    <tr>\n",
       "      <th>1</th>\n",
       "      <td>1343649</td>\n",
       "      <td>6</td>\n",
       "    </tr>\n",
       "    <tr>\n",
       "      <th>1</th>\n",
       "      <td>1343649</td>\n",
       "      <td>47</td>\n",
       "    </tr>\n",
       "    <tr>\n",
       "      <th>1</th>\n",
       "      <td>1343649</td>\n",
       "      <td>17</td>\n",
       "    </tr>\n",
       "  </tbody>\n",
       "</table>\n",
       "</div>"
      ],
      "text/plain": [
       "   user_id item_id\n",
       "0   222087      27\n",
       "0   222087      26\n",
       "1  1343649       6\n",
       "1  1343649      47\n",
       "1  1343649      17"
      ]
     },
     "execution_count": 25,
     "metadata": {},
     "output_type": "execute_result"
    }
   ],
   "source": [
    "data_long.head()"
   ]
  },
  {
   "cell_type": "code",
   "execution_count": 35,
   "metadata": {},
   "outputs": [],
   "source": [
    "#now I can group by user and item, count, and then find the max row for each item\n",
    "data_long = data_long.groupby(['item_id', 'user_id']).size().reset_index(name = 'count')\n",
    "idx = data_long.groupby(['item_id'])['count'].transform(max) == data_long['count']\n",
    "data_long = data_long[idx]\n",
    "  \n",
    "#add item names\n",
    "data_long['item_id'] = data_long['item_id'].astype(int)\n",
    "data_long = pandas.merge(data_long, item_name, how='left', left_on='item_id', right_on='Item_id')"
   ]
  },
  {
   "cell_type": "code",
   "execution_count": 36,
   "metadata": {},
   "outputs": [
    {
     "name": "stdout",
     "output_type": "stream",
     "text": [
      "The following user(s) have bought ['sugar'] the most: [  31625   68836  540483 1091637 1301034]\n"
     ]
    }
   ],
   "source": [
    "#check the dataset for the first item\n",
    "print(\"The following user(s) have bought\", \n",
    "       item_name.query('Item_id==1')['Item_name'].values,\n",
    "      \"the most:\",\n",
    "       data_long.query('item_id==1')['user_id'].values\n",
    "     )\n"
   ]
  },
  {
   "cell_type": "code",
   "execution_count": 37,
   "metadata": {},
   "outputs": [
    {
     "data": {
      "text/html": [
       "<div>\n",
       "<style scoped>\n",
       "    .dataframe tbody tr th:only-of-type {\n",
       "        vertical-align: middle;\n",
       "    }\n",
       "\n",
       "    .dataframe tbody tr th {\n",
       "        vertical-align: top;\n",
       "    }\n",
       "\n",
       "    .dataframe thead th {\n",
       "        text-align: right;\n",
       "    }\n",
       "</style>\n",
       "<table border=\"1\" class=\"dataframe\">\n",
       "  <thead>\n",
       "    <tr style=\"text-align: right;\">\n",
       "      <th></th>\n",
       "      <th>item_id</th>\n",
       "      <th>user_id</th>\n",
       "      <th>count</th>\n",
       "      <th>Item_name</th>\n",
       "      <th>Item_id</th>\n",
       "    </tr>\n",
       "  </thead>\n",
       "  <tbody>\n",
       "    <tr>\n",
       "      <th>0</th>\n",
       "      <td>1</td>\n",
       "      <td>31625</td>\n",
       "      <td>1</td>\n",
       "      <td>sugar</td>\n",
       "      <td>1</td>\n",
       "    </tr>\n",
       "    <tr>\n",
       "      <th>1</th>\n",
       "      <td>1</td>\n",
       "      <td>68836</td>\n",
       "      <td>1</td>\n",
       "      <td>sugar</td>\n",
       "      <td>1</td>\n",
       "    </tr>\n",
       "    <tr>\n",
       "      <th>2</th>\n",
       "      <td>1</td>\n",
       "      <td>540483</td>\n",
       "      <td>1</td>\n",
       "      <td>sugar</td>\n",
       "      <td>1</td>\n",
       "    </tr>\n",
       "    <tr>\n",
       "      <th>3</th>\n",
       "      <td>1</td>\n",
       "      <td>1091637</td>\n",
       "      <td>1</td>\n",
       "      <td>sugar</td>\n",
       "      <td>1</td>\n",
       "    </tr>\n",
       "    <tr>\n",
       "      <th>4</th>\n",
       "      <td>1</td>\n",
       "      <td>1301034</td>\n",
       "      <td>1</td>\n",
       "      <td>sugar</td>\n",
       "      <td>1</td>\n",
       "    </tr>\n",
       "  </tbody>\n",
       "</table>\n",
       "</div>"
      ],
      "text/plain": [
       "   item_id  user_id  count Item_name  Item_id\n",
       "0        1    31625      1     sugar        1\n",
       "1        1    68836      1     sugar        1\n",
       "2        1   540483      1     sugar        1\n",
       "3        1  1091637      1     sugar        1\n",
       "4        1  1301034      1     sugar        1"
      ]
     },
     "execution_count": 37,
     "metadata": {},
     "output_type": "execute_result"
    }
   ],
   "source": [
    "data_long.head()"
   ]
  },
  {
   "cell_type": "code",
   "execution_count": 38,
   "metadata": {},
   "outputs": [
    {
     "data": {
      "text/plain": [
       "array(['sugar'], dtype=object)"
      ]
     },
     "execution_count": 38,
     "metadata": {},
     "output_type": "execute_result"
    }
   ],
   "source": [
    "item_name.query('Item_id==1')['Item_name'].values"
   ]
  },
  {
   "cell_type": "code",
   "execution_count": 39,
   "metadata": {},
   "outputs": [
    {
     "data": {
      "text/plain": [
       "array([  31625,   68836,  540483, 1091637, 1301034])"
      ]
     },
     "execution_count": 39,
     "metadata": {},
     "output_type": "execute_result"
    }
   ],
   "source": [
    "data_long.query('item_id==1')['user_id'].values"
   ]
  },
  {
   "cell_type": "markdown",
   "metadata": {},
   "source": [
    "Q: Cluster items based on user co-purchase history. That is, create clusters of products that have the highest probability of being bought together. The goal of this is to replace the old/manually created categories with these new ones. Each item can belong to just one cluster\n",
    "\n",
    "Since each item can only belong to one cluster, this is a clustering problem. If an item could have belonged to multiple groups, this would have become an association rule task.\n",
    "\n",
    "There are several ways to build the clusters. An options is:\n",
    "\n",
    "\n",
    "Build a N X M matrix where N (rows) represents the transactions and M (columns) is the items\n",
    "\n",
    "\n",
    "For each row, put 1 if a given item was bought and 0 otherwise. I.e. the first row, will have all zeros except for the columns “item 26” and “item 27”\n",
    "Create an M X M similarity matrix from the matrix above. Most common similarity metrics are correlation or cosine similarity. Most clustering functions will do this internally when fed the N X M matrix, so it doesn’t need to be done manually.\n",
    "Apply clustering to the similarity matrix. Each cluster will contain items that are likely to be bought together. As clustering technique, most common choices are k-means and hierarchical clustering. K-means is simpler and easier to explain it. So, often, you want to try k-means first, especially if the dataset is simple and you expect k-means to do well. If that doesn’t work, move to hierarchical clustering.\n",
    "\n",
    "\n",
    "Here we will show both approaches. K-means with Python\n"
   ]
  },
  {
   "cell_type": "code",
   "execution_count": 40,
   "metadata": {},
   "outputs": [
    {
     "name": "stdout",
     "output_type": "stream",
     "text": [
      "  item_id  transaction_id\n",
      "0      27               0\n",
      "1      26               0\n",
      "2       6               1\n",
      "3      47               1\n",
      "4      17               1\n"
     ]
    }
   ],
   "source": [
    "#firstly, let's create the dataset where each row is a transaction and columns are all items with 1/0 values if bought or not\n",
    "  \n",
    "#let's start from the long dataset: Item_id comes from the previous section, i.e. all items bought as a vector. Also need to add a column regarding which transaction it was. we need it for later when we make the dataset wide. \n",
    " \n",
    "#make them into a dataframe\n",
    "data_clustering = pandas.DataFrame({'item_id' : item_id})\n",
    "data_clustering['transaction_id']= np.repeat(range(len(purchase['user_id'])), purchase['item_count'])\n",
    "print(data_clustering.head())"
   ]
  },
  {
   "cell_type": "code",
   "execution_count": 41,
   "metadata": {},
   "outputs": [
    {
     "name": "stdout",
     "output_type": "stream",
     "text": [
      "   transaction_id        Item_name\n",
      "0               0     dishwashing \n",
      "1               0  spaghetti sauce\n",
      "2               1          poultry\n",
      "3               1             pork\n",
      "4               1             beef\n"
     ]
    }
   ],
   "source": [
    "#let's get the item names instead of the ids\n",
    "data_clustering['item_id'] = data_clustering['item_id'].astype(int)\n",
    "data_clustering = pandas.merge(data_clustering, item_name, how='left', left_on='item_id', right_on='Item_id')[['transaction_id', 'Item_name']]\n",
    "print(data_clustering.head())"
   ]
  },
  {
   "cell_type": "code",
   "execution_count": 42,
   "metadata": {},
   "outputs": [
    {
     "name": "stdout",
     "output_type": "stream",
     "text": [
      "True\n"
     ]
    }
   ],
   "source": [
    "#now we make it wide, i.e. each column is an item, each row a transaction, values are 0/1 if a given item was bought in that transaction\n",
    "data_clustering['binary_value'] = 1\n",
    "data_clustering = data_clustering.pivot(index='transaction_id', columns='Item_name').fillna(0)\n",
    " \n",
    "#let's check everything worked:  \n",
    "print( \n",
    "# of rows same as # transactions, \n",
    "data_clustering.shape[0] == purchase.shape[0] and\n",
    "# of columns same as # items\n",
    "data_clustering.shape[1] == len(np.unique(item_id)) and\n",
    "#since each row has 1 if an item was bought and 0 otherwise, sum of all its elements should be the same as sum purchase.item_count  \n",
    "data_clustering.values.sum() == purchase['item_count'].sum()\n",
    ")"
   ]
  },
  {
   "cell_type": "code",
   "execution_count": 44,
   "metadata": {},
   "outputs": [],
   "source": [
    "from sklearn.metrics.pairwise import pairwise_distances"
   ]
  },
  {
   "cell_type": "code",
   "execution_count": 45,
   "metadata": {},
   "outputs": [],
   "source": [
    "data_clustering_corr = pairwise_distances(data_clustering.T, metric=\"correlation\")"
   ]
  },
  {
   "cell_type": "markdown",
   "metadata": {},
   "source": [
    "With k-means, we need to choose the number of clusters before building the model. A common way to approach this is:\n",
    "Define from a product standpoint a range of cluster numbers that makes sense. I.e. the output of this challenge are aisles in a grocery store. It would make no sense to have too many or too few because it would confuse customers either way. In real life, this step is probably the most important one and a lot of data science work and design discussions go into this to figure out a range of acceptable cluster numbers. Here we don’t have much information, so we just pick numbers that kinda make sense. We have 48 items and say, on an average, we would like to have between 7 and 4 items per aisle. Therefore, we will try between 6 and 12 clusters.\n",
    "\n",
    "\n",
    "Build k-means for all the possible cluster numbers, look at k-means loss, and choose the optimal cluster number accordingly\n"
   ]
  },
  {
   "cell_type": "code",
   "execution_count": 46,
   "metadata": {},
   "outputs": [],
   "source": [
    "from sklearn.cluster import KMeans\n",
    "  \n",
    "#now let's build different models using kmeans and check intertia of each.\n",
    "cluster_inertia = [] # tells me how spread out are elements within the same cluster. The smaller the better.\n",
    "for i in range(6,13): # We chose this range based on product-related considerations\n",
    "    kmeans = KMeans(n_clusters=i, random_state=99)\n",
    "    kmeans.fit(data_clustering_corr)\n",
    "    cluster_inertia.append(kmeans.inertia_)\n"
   ]
  },
  {
   "cell_type": "code",
   "execution_count": 47,
   "metadata": {},
   "outputs": [
    {
     "data": {
      "text/plain": [
       "Text(0, 0.5, 'Inertia')"
      ]
     },
     "execution_count": 47,
     "metadata": {},
     "output_type": "execute_result"
    },
    {
     "data": {
      "image/png": "[encoded data removed]",
      "text/plain": [
       "<Figure size 432x288 with 1 Axes>"
      ]
     },
     "metadata": {
      "needs_background": "light"
     },
     "output_type": "display_data"
    }
   ],
   "source": [
    "#let's plot them\n",
    "KMeans(algorithm='auto', copy_x=True, init='k-means++', max_iter=300,\n",
    "    n_clusters=6, n_init=10, n_jobs=None, precompute_distances='auto',\n",
    "    random_state=99, tol=0.0001, verbose=0)\n",
    "KMeans(algorithm='auto', copy_x=True, init='k-means++', max_iter=300,\n",
    "    n_clusters=7, n_init=10, n_jobs=None, precompute_distances='auto',\n",
    "    random_state=99, tol=0.0001, verbose=0)\n",
    "KMeans(algorithm='auto', copy_x=True, init='k-means++', max_iter=300,\n",
    "    n_clusters=8, n_init=10, n_jobs=None, precompute_distances='auto',\n",
    "    random_state=99, tol=0.0001, verbose=0)\n",
    "KMeans(algorithm='auto', copy_x=True, init='k-means++', max_iter=300,\n",
    "    n_clusters=9, n_init=10, n_jobs=None, precompute_distances='auto',\n",
    "    random_state=99, tol=0.0001, verbose=0)\n",
    "KMeans(algorithm='auto', copy_x=True, init='k-means++', max_iter=300,\n",
    "    n_clusters=10, n_init=10, n_jobs=None, precompute_distances='auto',\n",
    "    random_state=99, tol=0.0001, verbose=0)\n",
    "KMeans(algorithm='auto', copy_x=True, init='k-means++', max_iter=300,\n",
    "    n_clusters=11, n_init=10, n_jobs=None, precompute_distances='auto',\n",
    "    random_state=99, tol=0.0001, verbose=0)\n",
    "KMeans(algorithm='auto', copy_x=True, init='k-means++', max_iter=300,\n",
    "    n_clusters=12, n_init=10, n_jobs=None, precompute_distances='auto',\n",
    "    random_state=99, tol=0.0001, verbose=0)\n",
    "plt.plot(range(6,13), cluster_inertia)\n",
    "plt.xlabel(\"Number of clusters\")\n",
    "plt.ylabel(\"Inertia\")"
   ]
  },
  {
   "cell_type": "code",
   "execution_count": 49,
   "metadata": {},
   "outputs": [
    {
     "data": {
      "text/html": [
       "<div>\n",
       "<style scoped>\n",
       "    .dataframe tbody tr th:only-of-type {\n",
       "        vertical-align: middle;\n",
       "    }\n",
       "\n",
       "    .dataframe tbody tr th {\n",
       "        vertical-align: top;\n",
       "    }\n",
       "\n",
       "    .dataframe thead tr th {\n",
       "        text-align: left;\n",
       "    }\n",
       "\n",
       "    .dataframe thead tr:last-of-type th {\n",
       "        text-align: right;\n",
       "    }\n",
       "</style>\n",
       "<table border=\"1\" class=\"dataframe\">\n",
       "  <thead>\n",
       "    <tr>\n",
       "      <th></th>\n",
       "      <th colspan=\"11\" halign=\"left\">binary_value</th>\n",
       "    </tr>\n",
       "    <tr>\n",
       "      <th>Item_name</th>\n",
       "      <th>aluminum foil</th>\n",
       "      <th>apples</th>\n",
       "      <th>baby items</th>\n",
       "      <th>bagels</th>\n",
       "      <th>bananas</th>\n",
       "      <th>...</th>\n",
       "      <th>tea</th>\n",
       "      <th>toilet paper</th>\n",
       "      <th>tortillas</th>\n",
       "      <th>waffles</th>\n",
       "      <th>yogurt</th>\n",
       "    </tr>\n",
       "    <tr>\n",
       "      <th>transaction_id</th>\n",
       "      <th></th>\n",
       "      <th></th>\n",
       "      <th></th>\n",
       "      <th></th>\n",
       "      <th></th>\n",
       "      <th></th>\n",
       "      <th></th>\n",
       "      <th></th>\n",
       "      <th></th>\n",
       "      <th></th>\n",
       "      <th></th>\n",
       "    </tr>\n",
       "  </thead>\n",
       "  <tbody>\n",
       "    <tr>\n",
       "      <th>0</th>\n",
       "      <td>0.0</td>\n",
       "      <td>0.0</td>\n",
       "      <td>0.0</td>\n",
       "      <td>0.0</td>\n",
       "      <td>0.0</td>\n",
       "      <td>...</td>\n",
       "      <td>0.0</td>\n",
       "      <td>0.0</td>\n",
       "      <td>0.0</td>\n",
       "      <td>0.0</td>\n",
       "      <td>0.0</td>\n",
       "    </tr>\n",
       "    <tr>\n",
       "      <th>1</th>\n",
       "      <td>0.0</td>\n",
       "      <td>0.0</td>\n",
       "      <td>0.0</td>\n",
       "      <td>0.0</td>\n",
       "      <td>0.0</td>\n",
       "      <td>...</td>\n",
       "      <td>0.0</td>\n",
       "      <td>0.0</td>\n",
       "      <td>0.0</td>\n",
       "      <td>0.0</td>\n",
       "      <td>0.0</td>\n",
       "    </tr>\n",
       "    <tr>\n",
       "      <th>2</th>\n",
       "      <td>0.0</td>\n",
       "      <td>0.0</td>\n",
       "      <td>0.0</td>\n",
       "      <td>0.0</td>\n",
       "      <td>0.0</td>\n",
       "      <td>...</td>\n",
       "      <td>1.0</td>\n",
       "      <td>0.0</td>\n",
       "      <td>0.0</td>\n",
       "      <td>0.0</td>\n",
       "      <td>0.0</td>\n",
       "    </tr>\n",
       "    <tr>\n",
       "      <th>3</th>\n",
       "      <td>0.0</td>\n",
       "      <td>0.0</td>\n",
       "      <td>0.0</td>\n",
       "      <td>0.0</td>\n",
       "      <td>0.0</td>\n",
       "      <td>...</td>\n",
       "      <td>1.0</td>\n",
       "      <td>0.0</td>\n",
       "      <td>0.0</td>\n",
       "      <td>0.0</td>\n",
       "      <td>0.0</td>\n",
       "    </tr>\n",
       "    <tr>\n",
       "      <th>4</th>\n",
       "      <td>0.0</td>\n",
       "      <td>1.0</td>\n",
       "      <td>0.0</td>\n",
       "      <td>1.0</td>\n",
       "      <td>0.0</td>\n",
       "      <td>...</td>\n",
       "      <td>0.0</td>\n",
       "      <td>0.0</td>\n",
       "      <td>0.0</td>\n",
       "      <td>1.0</td>\n",
       "      <td>1.0</td>\n",
       "    </tr>\n",
       "    <tr>\n",
       "      <th>...</th>\n",
       "      <td>...</td>\n",
       "      <td>...</td>\n",
       "      <td>...</td>\n",
       "      <td>...</td>\n",
       "      <td>...</td>\n",
       "      <td>...</td>\n",
       "      <td>...</td>\n",
       "      <td>...</td>\n",
       "      <td>...</td>\n",
       "      <td>...</td>\n",
       "      <td>...</td>\n",
       "    </tr>\n",
       "    <tr>\n",
       "      <th>39469</th>\n",
       "      <td>0.0</td>\n",
       "      <td>0.0</td>\n",
       "      <td>0.0</td>\n",
       "      <td>0.0</td>\n",
       "      <td>0.0</td>\n",
       "      <td>...</td>\n",
       "      <td>0.0</td>\n",
       "      <td>0.0</td>\n",
       "      <td>0.0</td>\n",
       "      <td>0.0</td>\n",
       "      <td>1.0</td>\n",
       "    </tr>\n",
       "    <tr>\n",
       "      <th>39470</th>\n",
       "      <td>0.0</td>\n",
       "      <td>0.0</td>\n",
       "      <td>0.0</td>\n",
       "      <td>0.0</td>\n",
       "      <td>1.0</td>\n",
       "      <td>...</td>\n",
       "      <td>1.0</td>\n",
       "      <td>0.0</td>\n",
       "      <td>0.0</td>\n",
       "      <td>0.0</td>\n",
       "      <td>0.0</td>\n",
       "    </tr>\n",
       "    <tr>\n",
       "      <th>39471</th>\n",
       "      <td>0.0</td>\n",
       "      <td>0.0</td>\n",
       "      <td>1.0</td>\n",
       "      <td>0.0</td>\n",
       "      <td>0.0</td>\n",
       "      <td>...</td>\n",
       "      <td>0.0</td>\n",
       "      <td>0.0</td>\n",
       "      <td>0.0</td>\n",
       "      <td>0.0</td>\n",
       "      <td>0.0</td>\n",
       "    </tr>\n",
       "    <tr>\n",
       "      <th>39472</th>\n",
       "      <td>0.0</td>\n",
       "      <td>1.0</td>\n",
       "      <td>0.0</td>\n",
       "      <td>1.0</td>\n",
       "      <td>0.0</td>\n",
       "      <td>...</td>\n",
       "      <td>0.0</td>\n",
       "      <td>0.0</td>\n",
       "      <td>1.0</td>\n",
       "      <td>0.0</td>\n",
       "      <td>0.0</td>\n",
       "    </tr>\n",
       "    <tr>\n",
       "      <th>39473</th>\n",
       "      <td>0.0</td>\n",
       "      <td>0.0</td>\n",
       "      <td>0.0</td>\n",
       "      <td>1.0</td>\n",
       "      <td>0.0</td>\n",
       "      <td>...</td>\n",
       "      <td>0.0</td>\n",
       "      <td>0.0</td>\n",
       "      <td>0.0</td>\n",
       "      <td>0.0</td>\n",
       "      <td>0.0</td>\n",
       "    </tr>\n",
       "  </tbody>\n",
       "</table>\n",
       "<p>39474 rows × 48 columns</p>\n",
       "</div>"
      ],
      "text/plain": [
       "                binary_value                                   ...                                           \n",
       "Item_name      aluminum foil apples baby items bagels bananas  ...  tea toilet paper tortillas waffles yogurt\n",
       "transaction_id                                                 ...                                           \n",
       "0                        0.0    0.0        0.0    0.0     0.0  ...  0.0          0.0       0.0     0.0    0.0\n",
       "1                        0.0    0.0        0.0    0.0     0.0  ...  0.0          0.0       0.0     0.0    0.0\n",
       "2                        0.0    0.0        0.0    0.0     0.0  ...  1.0          0.0       0.0     0.0    0.0\n",
       "3                        0.0    0.0        0.0    0.0     0.0  ...  1.0          0.0       0.0     0.0    0.0\n",
       "4                        0.0    1.0        0.0    1.0     0.0  ...  0.0          0.0       0.0     1.0    1.0\n",
       "...                      ...    ...        ...    ...     ...  ...  ...          ...       ...     ...    ...\n",
       "39469                    0.0    0.0        0.0    0.0     0.0  ...  0.0          0.0       0.0     0.0    1.0\n",
       "39470                    0.0    0.0        0.0    0.0     1.0  ...  1.0          0.0       0.0     0.0    0.0\n",
       "39471                    0.0    0.0        1.0    0.0     0.0  ...  0.0          0.0       0.0     0.0    0.0\n",
       "39472                    0.0    1.0        0.0    1.0     0.0  ...  0.0          0.0       1.0     0.0    0.0\n",
       "39473                    0.0    0.0        0.0    1.0     0.0  ...  0.0          0.0       0.0     0.0    0.0\n",
       "\n",
       "[39474 rows x 48 columns]"
      ]
     },
     "execution_count": 49,
     "metadata": {},
     "output_type": "execute_result"
    }
   ],
   "source": [
    "data_clustering"
   ]
  },
  {
   "cell_type": "code",
   "execution_count": 51,
   "metadata": {},
   "outputs": [
    {
     "data": {
      "text/plain": [
       "MultiIndex([('binary_value',     'aluminum foil'),\n",
       "            ('binary_value',            'apples'),\n",
       "            ('binary_value',        'baby items'),\n",
       "            ('binary_value',            'bagels'),\n",
       "            ('binary_value',           'bananas'),\n",
       "            ('binary_value',              'beef'),\n",
       "            ('binary_value',           'berries'),\n",
       "            ('binary_value',          'broccoli'),\n",
       "            ('binary_value',            'butter'),\n",
       "            ('binary_value', 'canned vegetables'),\n",
       "            ('binary_value',           'carrots'),\n",
       "            ('binary_value',       'cauliflower'),\n",
       "            ('binary_value',           'cereals'),\n",
       "            ('binary_value',           'cheeses'),\n",
       "            ('binary_value',          'cherries'),\n",
       "            ('binary_value',            'coffee'),\n",
       "            ('binary_value',         'cucumbers'),\n",
       "            ('binary_value',      'dinner rolls'),\n",
       "            ('binary_value',      'dishwashing '),\n",
       "            ('binary_value',              'eggs'),\n",
       "            ('binary_value',             'flour'),\n",
       "            ('binary_value', 'frozen vegetables'),\n",
       "            ('binary_value',        'grapefruit'),\n",
       "            ('binary_value',         'hand soap'),\n",
       "            ('binary_value',         'ice cream'),\n",
       "            ('binary_value',             'juice'),\n",
       "            ('binary_value',           'ketchup'),\n",
       "            ('binary_value', 'laundry detergent'),\n",
       "            ('binary_value',           'lettuce'),\n",
       "            ('binary_value',              'milk'),\n",
       "            ('binary_value',      'paper towels'),\n",
       "            ('binary_value',             'pasta'),\n",
       "            ('binary_value',         'pet items'),\n",
       "            ('binary_value',              'pork'),\n",
       "            ('binary_value',           'poultry'),\n",
       "            ('binary_value',     'sandwich bags'),\n",
       "            ('binary_value',   'sandwich loaves'),\n",
       "            ('binary_value',           'shampoo'),\n",
       "            ('binary_value',     'shaving cream'),\n",
       "            ('binary_value',              'soap'),\n",
       "            ('binary_value',              'soda'),\n",
       "            ('binary_value',   'spaghetti sauce'),\n",
       "            ('binary_value',             'sugar'),\n",
       "            ('binary_value',               'tea'),\n",
       "            ('binary_value',      'toilet paper'),\n",
       "            ('binary_value',         'tortillas'),\n",
       "            ('binary_value',           'waffles'),\n",
       "            ('binary_value',            'yogurt')],\n",
       "           names=[None, 'Item_name'])"
      ]
     },
     "execution_count": 51,
     "metadata": {},
     "output_type": "execute_result"
    }
   ],
   "source": [
    "data_clustering.columns.get_level_values(1)"
   ]
  },
  {
   "cell_type": "markdown",
   "metadata": {},
   "source": [
    "There doesn’t appear to be any major inflection point in the plot. So we will choose 12."
   ]
  },
  {
   "cell_type": "code",
   "execution_count": 48,
   "metadata": {},
   "outputs": [
    {
     "name": "stdout",
     "output_type": "stream",
     "text": [
      "    cluster      product_names\n",
      "26        0            ketchup\n",
      "41        0    spaghetti sauce\n",
      "9         0  canned vegetables\n",
      "1         1             apples\n",
      "4         1            bananas\n",
      "22        1         grapefruit\n",
      "6         1            berries\n",
      "14        1           cherries\n",
      "16        2          cucumbers\n",
      "28        2            lettuce\n",
      "7         2           broccoli\n",
      "10        2            carrots\n",
      "11        2        cauliflower\n",
      "17        3       dinner rolls\n",
      "36        3    sandwich loaves\n",
      "3         3             bagels\n",
      "45        3          tortillas\n",
      "15        4             coffee\n",
      "43        4                tea\n",
      "25        4              juice\n",
      "40        4               soda\n",
      "29        5               milk\n",
      "13        5            cheeses\n",
      "47        5             yogurt\n",
      "19        5               eggs\n",
      "8         5             butter\n",
      "42        6              sugar\n",
      "18        6       dishwashing \n",
      "27        6  laundry detergent\n",
      "2         6         baby items\n",
      "32        6          pet items\n",
      "38        7      shaving cream\n",
      "37        7            shampoo\n",
      "39        7               soap\n",
      "23        7          hand soap\n",
      "33        8               pork\n",
      "5         8               beef\n",
      "34        8            poultry\n",
      "24        9          ice cream\n",
      "21        9  frozen vegetables\n",
      "35       10      sandwich bags\n",
      "30       10       paper towels\n",
      "44       10       toilet paper\n",
      "0        10      aluminum foil\n",
      "31       11              pasta\n",
      "46       11            waffles\n",
      "20       11              flour\n",
      "12       11            cereals\n"
     ]
    }
   ],
   "source": [
    "#Build k-means with 12 clusters\n",
    "kmeans = KMeans(n_clusters=12, random_state=99)\n",
    "#fit the data\n",
    "clusters = kmeans.fit_predict(data_clustering_corr)\n",
    "  \n",
    "#check the final clusters\n",
    "final_clusters = pandas.DataFrame({'cluster':clusters, 'product_names':data_clustering.columns.get_level_values(1)})\n",
    "print(final_clusters.sort_values('cluster'))"
   ]
  },
  {
   "cell_type": "markdown",
   "metadata": {},
   "source": [
    "Overall, the clusters make sense. So we are good. Possible and fairly common next steps after building k-means are:\n",
    "\n",
    "\n",
    "If you end up with some clusters with too few events, that might not make sense from a product standpoint. If so, you can put them together and label this cluster “other”\n",
    "\n",
    "\n",
    "Look at the distance of each element from its cluster centroid. If this value is > than a certain threshold, assign that element to the “other” cluster\n"
   ]
  },
  {
   "cell_type": "code",
   "execution_count": null,
   "metadata": {},
   "outputs": [],
   "source": []
  }
 ],
 "metadata": {
  "kernelspec": {
   "display_name": "Python 3",
   "language": "python",
   "name": "python3"
  },
  "language_info": {
   "codemirror_mode": {
    "name": "ipython",
    "version": 3
   },
   "file_extension": ".py",
   "mimetype": "text/x-python",
   "name": "python",
   "nbconvert_exporter": "python",
   "pygments_lexer": "ipython3",
   "version": "3.7.3"
  }
 },
 "nbformat": 4,
 "nbformat_minor": 2
}
