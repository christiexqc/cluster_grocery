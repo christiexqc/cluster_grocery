{
 "cells": [
  {
   "cell_type": "code",
   "execution_count": 1,
   "metadata": {},
   "outputs": [],
   "source": [
    "import pandas as pd\n",
    "import numpy as np\n",
    "import matplotlib.pyplot as plt\n",
    "import seaborn as sns\n",
    "pd.set_option('display.max_columns', 10)\n",
    "pd.set_option('display.width', 350)"
   ]
  },
  {
   "cell_type": "markdown",
   "metadata": {},
   "source": [
    "# Import Data"
   ]
  },
  {
   "cell_type": "code",
   "execution_count": 2,
   "metadata": {},
   "outputs": [],
   "source": [
    "#read the two files\n",
    "item_name=pd.read_csv(\"./dataset/grocery/item_to_id.csv\")"
   ]
  },
  {
   "cell_type": "code",
   "execution_count": 3,
   "metadata": {},
   "outputs": [
    {
     "data": {
      "text/html": [
       "<div>\n",
       "<style scoped>\n",
       "    .dataframe tbody tr th:only-of-type {\n",
       "        vertical-align: middle;\n",
       "    }\n",
       "\n",
       "    .dataframe tbody tr th {\n",
       "        vertical-align: top;\n",
       "    }\n",
       "\n",
       "    .dataframe thead th {\n",
       "        text-align: right;\n",
       "    }\n",
       "</style>\n",
       "<table border=\"1\" class=\"dataframe\">\n",
       "  <thead>\n",
       "    <tr style=\"text-align: right;\">\n",
       "      <th></th>\n",
       "      <th>Item_name</th>\n",
       "      <th>Item_id</th>\n",
       "    </tr>\n",
       "  </thead>\n",
       "  <tbody>\n",
       "    <tr>\n",
       "      <th>0</th>\n",
       "      <td>coffee</td>\n",
       "      <td>43</td>\n",
       "    </tr>\n",
       "    <tr>\n",
       "      <th>1</th>\n",
       "      <td>tea</td>\n",
       "      <td>23</td>\n",
       "    </tr>\n",
       "    <tr>\n",
       "      <th>2</th>\n",
       "      <td>juice</td>\n",
       "      <td>38</td>\n",
       "    </tr>\n",
       "    <tr>\n",
       "      <th>3</th>\n",
       "      <td>soda</td>\n",
       "      <td>9</td>\n",
       "    </tr>\n",
       "    <tr>\n",
       "      <th>4</th>\n",
       "      <td>sandwich loaves</td>\n",
       "      <td>39</td>\n",
       "    </tr>\n",
       "  </tbody>\n",
       "</table>\n",
       "</div>"
      ],
      "text/plain": [
       "         Item_name  Item_id\n",
       "0           coffee       43\n",
       "1              tea       23\n",
       "2            juice       38\n",
       "3             soda        9\n",
       "4  sandwich loaves       39"
      ]
     },
     "execution_count": 3,
     "metadata": {},
     "output_type": "execute_result"
    }
   ],
   "source": [
    "item_name.head()"
   ]
  },
  {
   "cell_type": "code",
   "execution_count": 5,
   "metadata": {},
   "outputs": [
    {
     "data": {
      "text/plain": [
       "(48, 2)"
      ]
     },
     "execution_count": 5,
     "metadata": {},
     "output_type": "execute_result"
    }
   ],
   "source": [
    "item_name.shape"
   ]
  },
  {
   "cell_type": "code",
   "execution_count": 6,
   "metadata": {},
   "outputs": [],
   "source": [
    "purchase=pd.read_csv(\"./dataset/grocery/purchase_history.csv\")"
   ]
  },
  {
   "cell_type": "code",
   "execution_count": 7,
   "metadata": {},
   "outputs": [
    {
     "data": {
      "text/html": [
       "<div>\n",
       "<style scoped>\n",
       "    .dataframe tbody tr th:only-of-type {\n",
       "        vertical-align: middle;\n",
       "    }\n",
       "\n",
       "    .dataframe tbody tr th {\n",
       "        vertical-align: top;\n",
       "    }\n",
       "\n",
       "    .dataframe thead th {\n",
       "        text-align: right;\n",
       "    }\n",
       "</style>\n",
       "<table border=\"1\" class=\"dataframe\">\n",
       "  <thead>\n",
       "    <tr style=\"text-align: right;\">\n",
       "      <th></th>\n",
       "      <th>user_id</th>\n",
       "      <th>id</th>\n",
       "    </tr>\n",
       "  </thead>\n",
       "  <tbody>\n",
       "    <tr>\n",
       "      <th>0</th>\n",
       "      <td>222087</td>\n",
       "      <td>27,26</td>\n",
       "    </tr>\n",
       "    <tr>\n",
       "      <th>1</th>\n",
       "      <td>1343649</td>\n",
       "      <td>6,47,17</td>\n",
       "    </tr>\n",
       "    <tr>\n",
       "      <th>2</th>\n",
       "      <td>404134</td>\n",
       "      <td>18,12,23,22,27,43,38,20,35,1</td>\n",
       "    </tr>\n",
       "    <tr>\n",
       "      <th>3</th>\n",
       "      <td>1110200</td>\n",
       "      <td>9,23,2,20,26,47,37</td>\n",
       "    </tr>\n",
       "    <tr>\n",
       "      <th>4</th>\n",
       "      <td>224107</td>\n",
       "      <td>31,18,5,13,1,21,48,16,26,2,44,32,20,37,42,35,4...</td>\n",
       "    </tr>\n",
       "  </tbody>\n",
       "</table>\n",
       "</div>"
      ],
      "text/plain": [
       "   user_id                                                 id\n",
       "0   222087                                              27,26\n",
       "1  1343649                                            6,47,17\n",
       "2   404134                       18,12,23,22,27,43,38,20,35,1\n",
       "3  1110200                                 9,23,2,20,26,47,37\n",
       "4   224107  31,18,5,13,1,21,48,16,26,2,44,32,20,37,42,35,4..."
      ]
     },
     "execution_count": 7,
     "metadata": {},
     "output_type": "execute_result"
    }
   ],
   "source": [
    "purchase.head()"
   ]
  },
  {
   "cell_type": "markdown",
   "metadata": {},
   "source": [
    "# Data Exploration"
   ]
  },
  {
   "cell_type": "markdown",
   "metadata": {},
   "source": [
    "Q: Customer who bought the highest number of items overall\n",
    "\n",
    "Let’s count how many items each user bought in total.\n"
   ]
  },
  {
   "cell_type": "code",
   "execution_count": 8,
   "metadata": {},
   "outputs": [],
   "source": [
    "#let's split on comma and get the length\n",
    "purchase['item_count'] = purchase['id'].apply(lambda x: len(x.split(',')))"
   ]
  },
  {
   "cell_type": "code",
   "execution_count": 9,
   "metadata": {},
   "outputs": [
    {
     "data": {
      "text/html": [
       "<div>\n",
       "<style scoped>\n",
       "    .dataframe tbody tr th:only-of-type {\n",
       "        vertical-align: middle;\n",
       "    }\n",
       "\n",
       "    .dataframe tbody tr th {\n",
       "        vertical-align: top;\n",
       "    }\n",
       "\n",
       "    .dataframe thead th {\n",
       "        text-align: right;\n",
       "    }\n",
       "</style>\n",
       "<table border=\"1\" class=\"dataframe\">\n",
       "  <thead>\n",
       "    <tr style=\"text-align: right;\">\n",
       "      <th></th>\n",
       "      <th>user_id</th>\n",
       "      <th>id</th>\n",
       "      <th>item_count</th>\n",
       "    </tr>\n",
       "  </thead>\n",
       "  <tbody>\n",
       "    <tr>\n",
       "      <th>0</th>\n",
       "      <td>222087</td>\n",
       "      <td>27,26</td>\n",
       "      <td>2</td>\n",
       "    </tr>\n",
       "    <tr>\n",
       "      <th>1</th>\n",
       "      <td>1343649</td>\n",
       "      <td>6,47,17</td>\n",
       "      <td>3</td>\n",
       "    </tr>\n",
       "    <tr>\n",
       "      <th>2</th>\n",
       "      <td>404134</td>\n",
       "      <td>18,12,23,22,27,43,38,20,35,1</td>\n",
       "      <td>10</td>\n",
       "    </tr>\n",
       "    <tr>\n",
       "      <th>3</th>\n",
       "      <td>1110200</td>\n",
       "      <td>9,23,2,20,26,47,37</td>\n",
       "      <td>7</td>\n",
       "    </tr>\n",
       "    <tr>\n",
       "      <th>4</th>\n",
       "      <td>224107</td>\n",
       "      <td>31,18,5,13,1,21,48,16,26,2,44,32,20,37,42,35,4...</td>\n",
       "      <td>20</td>\n",
       "    </tr>\n",
       "  </tbody>\n",
       "</table>\n",
       "</div>"
      ],
      "text/plain": [
       "   user_id                                                 id  item_count\n",
       "0   222087                                              27,26           2\n",
       "1  1343649                                            6,47,17           3\n",
       "2   404134                       18,12,23,22,27,43,38,20,35,1          10\n",
       "3  1110200                                 9,23,2,20,26,47,37           7\n",
       "4   224107  31,18,5,13,1,21,48,16,26,2,44,32,20,37,42,35,4...          20"
      ]
     },
     "execution_count": 9,
     "metadata": {},
     "output_type": "execute_result"
    }
   ],
   "source": [
    "purchase.head()"
   ]
  },
  {
   "cell_type": "code",
   "execution_count": 12,
   "metadata": {},
   "outputs": [
    {
     "data": {
      "text/html": [
       "<div>\n",
       "<style scoped>\n",
       "    .dataframe tbody tr th:only-of-type {\n",
       "        vertical-align: middle;\n",
       "    }\n",
       "\n",
       "    .dataframe tbody tr th {\n",
       "        vertical-align: top;\n",
       "    }\n",
       "\n",
       "    .dataframe thead th {\n",
       "        text-align: right;\n",
       "    }\n",
       "</style>\n",
       "<table border=\"1\" class=\"dataframe\">\n",
       "  <thead>\n",
       "    <tr style=\"text-align: right;\">\n",
       "      <th></th>\n",
       "      <th>user_id</th>\n",
       "      <th>id</th>\n",
       "      <th>item_count</th>\n",
       "    </tr>\n",
       "  </thead>\n",
       "  <tbody>\n",
       "    <tr>\n",
       "      <th>3332</th>\n",
       "      <td>388149</td>\n",
       "      <td>18,38,36,7,1,10,45,26,39,5,44,40,32,25,9,21,28...</td>\n",
       "      <td>27</td>\n",
       "    </tr>\n",
       "    <tr>\n",
       "      <th>16424</th>\n",
       "      <td>1498027</td>\n",
       "      <td>2,23,14,47,15,7,24,33,3,16,48,34,13,18,25,9,38...</td>\n",
       "      <td>27</td>\n",
       "    </tr>\n",
       "    <tr>\n",
       "      <th>21269</th>\n",
       "      <td>518659</td>\n",
       "      <td>3,9,40,32,11,10,19,46,44,45,13,2,21,28,25,38,2...</td>\n",
       "      <td>25</td>\n",
       "    </tr>\n",
       "    <tr>\n",
       "      <th>25339</th>\n",
       "      <td>672816</td>\n",
       "      <td>10,44,41,8,9,32,48,30,11,24,12,42,13,20,25,38,...</td>\n",
       "      <td>25</td>\n",
       "    </tr>\n",
       "    <tr>\n",
       "      <th>2085</th>\n",
       "      <td>591753</td>\n",
       "      <td>48,14,21,16,8,12,9,33,26,22,40,20,32,38,2,4,3,...</td>\n",
       "      <td>25</td>\n",
       "    </tr>\n",
       "  </tbody>\n",
       "</table>\n",
       "</div>"
      ],
      "text/plain": [
       "       user_id                                                 id  item_count\n",
       "3332    388149  18,38,36,7,1,10,45,26,39,5,44,40,32,25,9,21,28...          27\n",
       "16424  1498027  2,23,14,47,15,7,24,33,3,16,48,34,13,18,25,9,38...          27\n",
       "21269   518659  3,9,40,32,11,10,19,46,44,45,13,2,21,28,25,38,2...          25\n",
       "25339   672816  10,44,41,8,9,32,48,30,11,24,12,42,13,20,25,38,...          25\n",
       "2085    591753  48,14,21,16,8,12,9,33,26,22,40,20,32,38,2,4,3,...          25"
      ]
     },
     "execution_count": 12,
     "metadata": {},
     "output_type": "execute_result"
    }
   ],
   "source": [
    "purchase.sort_values(by = 'item_count', ascending = False).head()"
   ]
  },
  {
   "cell_type": "code",
   "execution_count": 15,
   "metadata": {},
   "outputs": [],
   "source": [
    " #so now we can simply group by user, sum item_count and pick the max\n",
    "max_bought = purchase.groupby('user_id')['item_count'].sum().reset_index()"
   ]
  },
  {
   "cell_type": "code",
   "execution_count": 16,
   "metadata": {},
   "outputs": [],
   "source": [
    "max_bought = max_bought.loc[max_bought ['item_count'].idxmax()]"
   ]
  },
  {
   "cell_type": "code",
   "execution_count": 17,
   "metadata": {},
   "outputs": [
    {
     "data": {
      "text/plain": [
       "user_id       269335\n",
       "item_count        72\n",
       "Name: 4445, dtype: int64"
      ]
     },
     "execution_count": 17,
     "metadata": {},
     "output_type": "execute_result"
    }
   ],
   "source": [
    "max_bought"
   ]
  },
  {
   "cell_type": "code",
   "execution_count": 18,
   "metadata": {},
   "outputs": [
    {
     "name": "stdout",
     "output_type": "stream",
     "text": [
      "The user with the highest count is 269335 having bought 72 items\n"
     ]
    }
   ],
   "source": [
    "print(\"The user with the highest count is\", max_bought[0], \n",
    "      \"having bought\", max_bought[1], \"items\")"
   ]
  },
  {
   "cell_type": "markdown",
   "metadata": {},
   "source": [
    "Q: For each item, the customer who bought that product the most\n",
    "This is similar to the previous question. We need to group by item and user and find max."
   ]
  },
  {
   "cell_type": "code",
   "execution_count": 19,
   "metadata": {},
   "outputs": [],
   "source": [
    "#create a vector of all items purchased in the same order as the original dataset\n",
    "item_id = purchase['id'].str.split(\",\")"
   ]
  },
  {
   "cell_type": "code",
   "execution_count": 20,
   "metadata": {},
   "outputs": [
    {
     "data": {
      "text/plain": [
       "0                                                 [27, 26]\n",
       "1                                              [6, 47, 17]\n",
       "2                  [18, 12, 23, 22, 27, 43, 38, 20, 35, 1]\n",
       "3                               [9, 23, 2, 20, 26, 47, 37]\n",
       "4        [31, 18, 5, 13, 1, 21, 48, 16, 26, 2, 44, 32, ...\n",
       "                               ...                        \n",
       "39469                                  [48, 42, 44, 10, 2]\n",
       "39470    [23, 21, 26, 27, 41, 9, 47, 43, 20, 40, 16, 24...\n",
       "39471    [3, 39, 28, 4, 1, 43, 47, 27, 18, 25, 44, 10, ...\n",
       "39472                   [13, 39, 20, 32, 37, 1, 3, 18, 34]\n",
       "39473          [39, 40, 20, 3, 10, 42, 38, 43, 28, 25, 13]\n",
       "Name: id, Length: 39474, dtype: object"
      ]
     },
     "execution_count": 20,
     "metadata": {},
     "output_type": "execute_result"
    }
   ],
   "source": [
    "item_id"
   ]
  },
  {
   "cell_type": "code",
   "execution_count": 21,
   "metadata": {},
   "outputs": [],
   "source": [
    "item_id = np.hstack(item_id)"
   ]
  },
  {
   "cell_type": "code",
   "execution_count": 22,
   "metadata": {},
   "outputs": [
    {
     "data": {
      "text/plain": [
       "array(['27', '26', '6', ..., '28', '25', '13'], dtype='<U2')"
      ]
     },
     "execution_count": 22,
     "metadata": {},
     "output_type": "execute_result"
    }
   ],
   "source": [
    "item_id"
   ]
  },
  {
   "cell_type": "code",
   "execution_count": 23,
   "metadata": {},
   "outputs": [],
   "source": [
    "#create a vector with all user_ids. Each user id is repeated the number of times based on to their corresponding item count. So the first user will be repeated twice, etc.\n",
    "user_id = np.repeat(purchase['user_id'], purchase['item_count'])"
   ]
  },
  {
   "cell_type": "code",
   "execution_count": 24,
   "metadata": {},
   "outputs": [
    {
     "data": {
      "text/plain": [
       "0         222087\n",
       "0         222087\n",
       "1        1343649\n",
       "1        1343649\n",
       "1        1343649\n",
       "          ...   \n",
       "39473     517744\n",
       "39473     517744\n",
       "39473     517744\n",
       "39473     517744\n",
       "39473     517744\n",
       "Name: user_id, Length: 319995, dtype: int64"
      ]
     },
     "execution_count": 24,
     "metadata": {},
     "output_type": "execute_result"
    }
   ],
   "source": [
    "user_id"
   ]
  },
  {
   "cell_type": "code",
   "execution_count": 25,
   "metadata": {},
   "outputs": [],
   "source": [
    "#make them into a dataframe\n",
    "data_long = pd.DataFrame(user_id)"
   ]
  },
  {
   "cell_type": "code",
   "execution_count": 26,
   "metadata": {},
   "outputs": [
    {
     "data": {
      "text/html": [
       "<div>\n",
       "<style scoped>\n",
       "    .dataframe tbody tr th:only-of-type {\n",
       "        vertical-align: middle;\n",
       "    }\n",
       "\n",
       "    .dataframe tbody tr th {\n",
       "        vertical-align: top;\n",
       "    }\n",
       "\n",
       "    .dataframe thead th {\n",
       "        text-align: right;\n",
       "    }\n",
       "</style>\n",
       "<table border=\"1\" class=\"dataframe\">\n",
       "  <thead>\n",
       "    <tr style=\"text-align: right;\">\n",
       "      <th></th>\n",
       "      <th>user_id</th>\n",
       "    </tr>\n",
       "  </thead>\n",
       "  <tbody>\n",
       "    <tr>\n",
       "      <th>0</th>\n",
       "      <td>222087</td>\n",
       "    </tr>\n",
       "    <tr>\n",
       "      <th>0</th>\n",
       "      <td>222087</td>\n",
       "    </tr>\n",
       "    <tr>\n",
       "      <th>1</th>\n",
       "      <td>1343649</td>\n",
       "    </tr>\n",
       "    <tr>\n",
       "      <th>1</th>\n",
       "      <td>1343649</td>\n",
       "    </tr>\n",
       "    <tr>\n",
       "      <th>1</th>\n",
       "      <td>1343649</td>\n",
       "    </tr>\n",
       "  </tbody>\n",
       "</table>\n",
       "</div>"
      ],
      "text/plain": [
       "   user_id\n",
       "0   222087\n",
       "0   222087\n",
       "1  1343649\n",
       "1  1343649\n",
       "1  1343649"
      ]
     },
     "execution_count": 26,
     "metadata": {},
     "output_type": "execute_result"
    }
   ],
   "source": [
    "data_long.head()"
   ]
  },
  {
   "cell_type": "code",
   "execution_count": 27,
   "metadata": {},
   "outputs": [],
   "source": [
    "data_long['item_id'] = item_id"
   ]
  },
  {
   "cell_type": "code",
   "execution_count": 28,
   "metadata": {},
   "outputs": [
    {
     "data": {
      "text/html": [
       "<div>\n",
       "<style scoped>\n",
       "    .dataframe tbody tr th:only-of-type {\n",
       "        vertical-align: middle;\n",
       "    }\n",
       "\n",
       "    .dataframe tbody tr th {\n",
       "        vertical-align: top;\n",
       "    }\n",
       "\n",
       "    .dataframe thead th {\n",
       "        text-align: right;\n",
       "    }\n",
       "</style>\n",
       "<table border=\"1\" class=\"dataframe\">\n",
       "  <thead>\n",
       "    <tr style=\"text-align: right;\">\n",
       "      <th></th>\n",
       "      <th>user_id</th>\n",
       "      <th>item_id</th>\n",
       "    </tr>\n",
       "  </thead>\n",
       "  <tbody>\n",
       "    <tr>\n",
       "      <th>0</th>\n",
       "      <td>222087</td>\n",
       "      <td>27</td>\n",
       "    </tr>\n",
       "    <tr>\n",
       "      <th>0</th>\n",
       "      <td>222087</td>\n",
       "      <td>26</td>\n",
       "    </tr>\n",
       "    <tr>\n",
       "      <th>1</th>\n",
       "      <td>1343649</td>\n",
       "      <td>6</td>\n",
       "    </tr>\n",
       "    <tr>\n",
       "      <th>1</th>\n",
       "      <td>1343649</td>\n",
       "      <td>47</td>\n",
       "    </tr>\n",
       "    <tr>\n",
       "      <th>1</th>\n",
       "      <td>1343649</td>\n",
       "      <td>17</td>\n",
       "    </tr>\n",
       "  </tbody>\n",
       "</table>\n",
       "</div>"
      ],
      "text/plain": [
       "   user_id item_id\n",
       "0   222087      27\n",
       "0   222087      26\n",
       "1  1343649       6\n",
       "1  1343649      47\n",
       "1  1343649      17"
      ]
     },
     "execution_count": 28,
     "metadata": {},
     "output_type": "execute_result"
    }
   ],
   "source": [
    "data_long.head()"
   ]
  },
  {
   "cell_type": "code",
   "execution_count": 29,
   "metadata": {},
   "outputs": [],
   "source": [
    "#now we can group by user and item, count, and then find the max row for each item\n",
    "data_long = data_long.groupby(['item_id', 'user_id']).size().reset_index(name = 'count')"
   ]
  },
  {
   "cell_type": "code",
   "execution_count": 30,
   "metadata": {},
   "outputs": [
    {
     "data": {
      "text/html": [
       "<div>\n",
       "<style scoped>\n",
       "    .dataframe tbody tr th:only-of-type {\n",
       "        vertical-align: middle;\n",
       "    }\n",
       "\n",
       "    .dataframe tbody tr th {\n",
       "        vertical-align: top;\n",
       "    }\n",
       "\n",
       "    .dataframe thead th {\n",
       "        text-align: right;\n",
       "    }\n",
       "</style>\n",
       "<table border=\"1\" class=\"dataframe\">\n",
       "  <thead>\n",
       "    <tr style=\"text-align: right;\">\n",
       "      <th></th>\n",
       "      <th>item_id</th>\n",
       "      <th>user_id</th>\n",
       "      <th>count</th>\n",
       "    </tr>\n",
       "  </thead>\n",
       "  <tbody>\n",
       "    <tr>\n",
       "      <th>0</th>\n",
       "      <td>1</td>\n",
       "      <td>223</td>\n",
       "      <td>1</td>\n",
       "    </tr>\n",
       "    <tr>\n",
       "      <th>1</th>\n",
       "      <td>1</td>\n",
       "      <td>323</td>\n",
       "      <td>1</td>\n",
       "    </tr>\n",
       "    <tr>\n",
       "      <th>2</th>\n",
       "      <td>1</td>\n",
       "      <td>394</td>\n",
       "      <td>1</td>\n",
       "    </tr>\n",
       "    <tr>\n",
       "      <th>3</th>\n",
       "      <td>1</td>\n",
       "      <td>453</td>\n",
       "      <td>1</td>\n",
       "    </tr>\n",
       "    <tr>\n",
       "      <th>4</th>\n",
       "      <td>1</td>\n",
       "      <td>553</td>\n",
       "      <td>1</td>\n",
       "    </tr>\n",
       "  </tbody>\n",
       "</table>\n",
       "</div>"
      ],
      "text/plain": [
       "  item_id  user_id  count\n",
       "0       1      223      1\n",
       "1       1      323      1\n",
       "2       1      394      1\n",
       "3       1      453      1\n",
       "4       1      553      1"
      ]
     },
     "execution_count": 30,
     "metadata": {},
     "output_type": "execute_result"
    }
   ],
   "source": [
    "data_long.head()"
   ]
  },
  {
   "cell_type": "code",
   "execution_count": 38,
   "metadata": {},
   "outputs": [],
   "source": [
    "data_long = data_long[data_long.groupby('item_id')['count'].transform(max) == data_long['count']]"
   ]
  },
  {
   "cell_type": "code",
   "execution_count": 39,
   "metadata": {},
   "outputs": [
    {
     "data": {
      "text/html": [
       "<div>\n",
       "<style scoped>\n",
       "    .dataframe tbody tr th:only-of-type {\n",
       "        vertical-align: middle;\n",
       "    }\n",
       "\n",
       "    .dataframe tbody tr th {\n",
       "        vertical-align: top;\n",
       "    }\n",
       "\n",
       "    .dataframe thead th {\n",
       "        text-align: right;\n",
       "    }\n",
       "</style>\n",
       "<table border=\"1\" class=\"dataframe\">\n",
       "  <thead>\n",
       "    <tr style=\"text-align: right;\">\n",
       "      <th></th>\n",
       "      <th>item_id</th>\n",
       "      <th>user_id</th>\n",
       "      <th>count</th>\n",
       "    </tr>\n",
       "  </thead>\n",
       "  <tbody>\n",
       "    <tr>\n",
       "      <th>171</th>\n",
       "      <td>1</td>\n",
       "      <td>31625</td>\n",
       "      <td>4</td>\n",
       "    </tr>\n",
       "    <tr>\n",
       "      <th>369</th>\n",
       "      <td>1</td>\n",
       "      <td>68836</td>\n",
       "      <td>4</td>\n",
       "    </tr>\n",
       "    <tr>\n",
       "      <th>2913</th>\n",
       "      <td>1</td>\n",
       "      <td>540483</td>\n",
       "      <td>4</td>\n",
       "    </tr>\n",
       "    <tr>\n",
       "      <th>5920</th>\n",
       "      <td>1</td>\n",
       "      <td>1091637</td>\n",
       "      <td>4</td>\n",
       "    </tr>\n",
       "    <tr>\n",
       "      <th>7021</th>\n",
       "      <td>1</td>\n",
       "      <td>1301034</td>\n",
       "      <td>4</td>\n",
       "    </tr>\n",
       "  </tbody>\n",
       "</table>\n",
       "</div>"
      ],
      "text/plain": [
       "     item_id  user_id  count\n",
       "171        1    31625      4\n",
       "369        1    68836      4\n",
       "2913       1   540483      4\n",
       "5920       1  1091637      4\n",
       "7021       1  1301034      4"
      ]
     },
     "execution_count": 39,
     "metadata": {},
     "output_type": "execute_result"
    }
   ],
   "source": [
    "data_long.head()"
   ]
  },
  {
   "cell_type": "code",
   "execution_count": 40,
   "metadata": {},
   "outputs": [
    {
     "data": {
      "text/plain": [
       "item_id    object\n",
       "user_id     int64\n",
       "count       int64\n",
       "dtype: object"
      ]
     },
     "execution_count": 40,
     "metadata": {},
     "output_type": "execute_result"
    }
   ],
   "source": [
    "data_long.dtypes"
   ]
  },
  {
   "cell_type": "code",
   "execution_count": 41,
   "metadata": {},
   "outputs": [
    {
     "name": "stderr",
     "output_type": "stream",
     "text": [
      "//miniconda3/lib/python3.7/site-packages/ipykernel_launcher.py:2: SettingWithCopyWarning: \n",
      "A value is trying to be set on a copy of a slice from a DataFrame.\n",
      "Try using .loc[row_indexer,col_indexer] = value instead\n",
      "\n",
      "See the caveats in the documentation: https://pandas.pydata.org/pandas-docs/stable/user_guide/indexing.html#returning-a-view-versus-a-copy\n",
      "  \n"
     ]
    }
   ],
   "source": [
    "#add item names\n",
    "data_long['item_id'] = data_long['item_id'].astype(int)\n",
    "data_long = pd.merge(data_long, item_name, how='left', left_on='item_id', right_on='Item_id')"
   ]
  },
  {
   "cell_type": "code",
   "execution_count": 42,
   "metadata": {},
   "outputs": [
    {
     "name": "stdout",
     "output_type": "stream",
     "text": [
      "The following user(s) have bought ['sugar'] the most: [  31625   68836  540483 1091637 1301034]\n"
     ]
    }
   ],
   "source": [
    "#check the dataset for the first item\n",
    "print(\"The following user(s) have bought\", \n",
    "       item_name.query('Item_id==1')['Item_name'].values,\n",
    "      \"the most:\",\n",
    "       data_long.query('item_id==1')['user_id'].values\n",
    "     )"
   ]
  },
  {
   "cell_type": "code",
   "execution_count": 43,
   "metadata": {},
   "outputs": [
    {
     "data": {
      "text/html": [
       "<div>\n",
       "<style scoped>\n",
       "    .dataframe tbody tr th:only-of-type {\n",
       "        vertical-align: middle;\n",
       "    }\n",
       "\n",
       "    .dataframe tbody tr th {\n",
       "        vertical-align: top;\n",
       "    }\n",
       "\n",
       "    .dataframe thead th {\n",
       "        text-align: right;\n",
       "    }\n",
       "</style>\n",
       "<table border=\"1\" class=\"dataframe\">\n",
       "  <thead>\n",
       "    <tr style=\"text-align: right;\">\n",
       "      <th></th>\n",
       "      <th>item_id</th>\n",
       "      <th>user_id</th>\n",
       "      <th>count</th>\n",
       "      <th>Item_name</th>\n",
       "      <th>Item_id</th>\n",
       "    </tr>\n",
       "  </thead>\n",
       "  <tbody>\n",
       "    <tr>\n",
       "      <th>0</th>\n",
       "      <td>1</td>\n",
       "      <td>31625</td>\n",
       "      <td>4</td>\n",
       "      <td>sugar</td>\n",
       "      <td>1</td>\n",
       "    </tr>\n",
       "    <tr>\n",
       "      <th>1</th>\n",
       "      <td>1</td>\n",
       "      <td>68836</td>\n",
       "      <td>4</td>\n",
       "      <td>sugar</td>\n",
       "      <td>1</td>\n",
       "    </tr>\n",
       "    <tr>\n",
       "      <th>2</th>\n",
       "      <td>1</td>\n",
       "      <td>540483</td>\n",
       "      <td>4</td>\n",
       "      <td>sugar</td>\n",
       "      <td>1</td>\n",
       "    </tr>\n",
       "    <tr>\n",
       "      <th>3</th>\n",
       "      <td>1</td>\n",
       "      <td>1091637</td>\n",
       "      <td>4</td>\n",
       "      <td>sugar</td>\n",
       "      <td>1</td>\n",
       "    </tr>\n",
       "    <tr>\n",
       "      <th>4</th>\n",
       "      <td>1</td>\n",
       "      <td>1301034</td>\n",
       "      <td>4</td>\n",
       "      <td>sugar</td>\n",
       "      <td>1</td>\n",
       "    </tr>\n",
       "  </tbody>\n",
       "</table>\n",
       "</div>"
      ],
      "text/plain": [
       "   item_id  user_id  count Item_name  Item_id\n",
       "0        1    31625      4     sugar        1\n",
       "1        1    68836      4     sugar        1\n",
       "2        1   540483      4     sugar        1\n",
       "3        1  1091637      4     sugar        1\n",
       "4        1  1301034      4     sugar        1"
      ]
     },
     "execution_count": 43,
     "metadata": {},
     "output_type": "execute_result"
    }
   ],
   "source": [
    "data_long.head()"
   ]
  },
  {
   "cell_type": "markdown",
   "metadata": {},
   "source": [
    "# Model Building"
   ]
  },
  {
   "cell_type": "markdown",
   "metadata": {},
   "source": [
    "Q: Cluster items based on user co-purchase history. That is, create clusters of products that have the highest probability of being bought together. The goal of this is to replace the old/manually created categories with these new ones. Each item can belong to just one cluster\n",
    "\n",
    "Since each item can only belong to one cluster, this is a clustering problem. If an item could have belonged to multiple groups, this would have become an association rule task.\n",
    "\n",
    "There are several ways to build the clusters. An options is:\n",
    "\n",
    "Build a N X M matrix where N (rows) represents the transactions and M (columns) is the items\n",
    "\n",
    "For each row, put 1 if a given item was bought and 0 otherwise. I.e. the first row, will have all zeros except for the columns “item 26” and “item 27” Create an M X M similarity matrix from the matrix above. Most common similarity metrics are correlation or cosine similarity. Most clustering functions will do this internally when fed the N X M matrix, so it doesn’t need to be done manually. Apply clustering to the similarity matrix. Each cluster will contain items that are likely to be bought together. As clustering technique, most common choices are k-means and hierarchical clustering. K-means is simpler and easier to explain it. So, often, you want to try k-means first, especially if the dataset is simple and you expect k-means to do well. If that doesn’t work, move to hierarchical clustering.\n",
    "\n",
    "Here we will show both approaches. K-means with Python"
   ]
  },
  {
   "cell_type": "code",
   "execution_count": 44,
   "metadata": {},
   "outputs": [],
   "source": [
    "#firstly, let's create the dataset where each row is a transaction and columns are all items with 1/0 values if bought or not\n",
    "  \n",
    "#let's start from the long dataset: Item_id comes from the previous section, i.e. all items bought as a vector. Also need to add a column regarding which transaction it was. we need it for later when we make the dataset wide. \n",
    " \n",
    "#make them into a dataframe\n",
    "data_clustering = pd.DataFrame({'item_id' : item_id})"
   ]
  },
  {
   "cell_type": "code",
   "execution_count": 45,
   "metadata": {},
   "outputs": [
    {
     "data": {
      "text/html": [
       "<div>\n",
       "<style scoped>\n",
       "    .dataframe tbody tr th:only-of-type {\n",
       "        vertical-align: middle;\n",
       "    }\n",
       "\n",
       "    .dataframe tbody tr th {\n",
       "        vertical-align: top;\n",
       "    }\n",
       "\n",
       "    .dataframe thead th {\n",
       "        text-align: right;\n",
       "    }\n",
       "</style>\n",
       "<table border=\"1\" class=\"dataframe\">\n",
       "  <thead>\n",
       "    <tr style=\"text-align: right;\">\n",
       "      <th></th>\n",
       "      <th>item_id</th>\n",
       "    </tr>\n",
       "  </thead>\n",
       "  <tbody>\n",
       "    <tr>\n",
       "      <th>0</th>\n",
       "      <td>27</td>\n",
       "    </tr>\n",
       "    <tr>\n",
       "      <th>1</th>\n",
       "      <td>26</td>\n",
       "    </tr>\n",
       "    <tr>\n",
       "      <th>2</th>\n",
       "      <td>6</td>\n",
       "    </tr>\n",
       "    <tr>\n",
       "      <th>3</th>\n",
       "      <td>47</td>\n",
       "    </tr>\n",
       "    <tr>\n",
       "      <th>4</th>\n",
       "      <td>17</td>\n",
       "    </tr>\n",
       "  </tbody>\n",
       "</table>\n",
       "</div>"
      ],
      "text/plain": [
       "  item_id\n",
       "0      27\n",
       "1      26\n",
       "2       6\n",
       "3      47\n",
       "4      17"
      ]
     },
     "execution_count": 45,
     "metadata": {},
     "output_type": "execute_result"
    }
   ],
   "source": [
    "data_clustering.head()"
   ]
  },
  {
   "cell_type": "code",
   "execution_count": 47,
   "metadata": {},
   "outputs": [],
   "source": [
    "data_clustering['transaction_id']= np.repeat(range(len(purchase['user_id'])), purchase['item_count'])"
   ]
  },
  {
   "cell_type": "code",
   "execution_count": 48,
   "metadata": {},
   "outputs": [
    {
     "data": {
      "text/html": [
       "<div>\n",
       "<style scoped>\n",
       "    .dataframe tbody tr th:only-of-type {\n",
       "        vertical-align: middle;\n",
       "    }\n",
       "\n",
       "    .dataframe tbody tr th {\n",
       "        vertical-align: top;\n",
       "    }\n",
       "\n",
       "    .dataframe thead th {\n",
       "        text-align: right;\n",
       "    }\n",
       "</style>\n",
       "<table border=\"1\" class=\"dataframe\">\n",
       "  <thead>\n",
       "    <tr style=\"text-align: right;\">\n",
       "      <th></th>\n",
       "      <th>item_id</th>\n",
       "      <th>transaction_id</th>\n",
       "    </tr>\n",
       "  </thead>\n",
       "  <tbody>\n",
       "    <tr>\n",
       "      <th>0</th>\n",
       "      <td>27</td>\n",
       "      <td>0</td>\n",
       "    </tr>\n",
       "    <tr>\n",
       "      <th>1</th>\n",
       "      <td>26</td>\n",
       "      <td>0</td>\n",
       "    </tr>\n",
       "    <tr>\n",
       "      <th>2</th>\n",
       "      <td>6</td>\n",
       "      <td>1</td>\n",
       "    </tr>\n",
       "    <tr>\n",
       "      <th>3</th>\n",
       "      <td>47</td>\n",
       "      <td>1</td>\n",
       "    </tr>\n",
       "    <tr>\n",
       "      <th>4</th>\n",
       "      <td>17</td>\n",
       "      <td>1</td>\n",
       "    </tr>\n",
       "  </tbody>\n",
       "</table>\n",
       "</div>"
      ],
      "text/plain": [
       "  item_id  transaction_id\n",
       "0      27               0\n",
       "1      26               0\n",
       "2       6               1\n",
       "3      47               1\n",
       "4      17               1"
      ]
     },
     "execution_count": 48,
     "metadata": {},
     "output_type": "execute_result"
    }
   ],
   "source": [
    "data_clustering.head()"
   ]
  },
  {
   "cell_type": "code",
   "execution_count": 51,
   "metadata": {},
   "outputs": [
    {
     "data": {
      "text/plain": [
       "array([    0,     1,     2, ..., 39471, 39472, 39473])"
      ]
     },
     "execution_count": 51,
     "metadata": {},
     "output_type": "execute_result"
    }
   ],
   "source": [
    "data_clustering.transaction_id.unique()"
   ]
  },
  {
   "cell_type": "code",
   "execution_count": 49,
   "metadata": {},
   "outputs": [
    {
     "data": {
      "text/plain": [
       "item_id           object\n",
       "transaction_id     int64\n",
       "dtype: object"
      ]
     },
     "execution_count": 49,
     "metadata": {},
     "output_type": "execute_result"
    }
   ],
   "source": [
    "data_clustering.dtypes"
   ]
  },
  {
   "cell_type": "code",
   "execution_count": 50,
   "metadata": {},
   "outputs": [
    {
     "data": {
      "text/html": [
       "<div>\n",
       "<style scoped>\n",
       "    .dataframe tbody tr th:only-of-type {\n",
       "        vertical-align: middle;\n",
       "    }\n",
       "\n",
       "    .dataframe tbody tr th {\n",
       "        vertical-align: top;\n",
       "    }\n",
       "\n",
       "    .dataframe thead th {\n",
       "        text-align: right;\n",
       "    }\n",
       "</style>\n",
       "<table border=\"1\" class=\"dataframe\">\n",
       "  <thead>\n",
       "    <tr style=\"text-align: right;\">\n",
       "      <th></th>\n",
       "      <th>transaction_id</th>\n",
       "      <th>Item_name</th>\n",
       "    </tr>\n",
       "  </thead>\n",
       "  <tbody>\n",
       "    <tr>\n",
       "      <th>0</th>\n",
       "      <td>0</td>\n",
       "      <td>dishwashing</td>\n",
       "    </tr>\n",
       "    <tr>\n",
       "      <th>1</th>\n",
       "      <td>0</td>\n",
       "      <td>spaghetti sauce</td>\n",
       "    </tr>\n",
       "    <tr>\n",
       "      <th>2</th>\n",
       "      <td>1</td>\n",
       "      <td>poultry</td>\n",
       "    </tr>\n",
       "    <tr>\n",
       "      <th>3</th>\n",
       "      <td>1</td>\n",
       "      <td>pork</td>\n",
       "    </tr>\n",
       "    <tr>\n",
       "      <th>4</th>\n",
       "      <td>1</td>\n",
       "      <td>beef</td>\n",
       "    </tr>\n",
       "  </tbody>\n",
       "</table>\n",
       "</div>"
      ],
      "text/plain": [
       "   transaction_id        Item_name\n",
       "0               0     dishwashing \n",
       "1               0  spaghetti sauce\n",
       "2               1          poultry\n",
       "3               1             pork\n",
       "4               1             beef"
      ]
     },
     "execution_count": 50,
     "metadata": {},
     "output_type": "execute_result"
    }
   ],
   "source": [
    "#let's get the item names instead of the ids\n",
    "data_clustering['item_id'] = data_clustering['item_id'].astype(int)\n",
    "data_clustering = pd.merge(data_clustering, item_name, how='left', left_on='item_id', right_on='Item_id')[['transaction_id', 'Item_name']]\n",
    "data_clustering.head()"
   ]
  },
  {
   "cell_type": "code",
   "execution_count": 52,
   "metadata": {},
   "outputs": [],
   "source": [
    "#now we make it wide, i.e. each column is an item, each row a transaction, values are 0/1 if a given item was bought in that transaction\n",
    "data_clustering['binary_value'] = 1"
   ]
  },
  {
   "cell_type": "code",
   "execution_count": 53,
   "metadata": {},
   "outputs": [
    {
     "data": {
      "text/html": [
       "<div>\n",
       "<style scoped>\n",
       "    .dataframe tbody tr th:only-of-type {\n",
       "        vertical-align: middle;\n",
       "    }\n",
       "\n",
       "    .dataframe tbody tr th {\n",
       "        vertical-align: top;\n",
       "    }\n",
       "\n",
       "    .dataframe thead th {\n",
       "        text-align: right;\n",
       "    }\n",
       "</style>\n",
       "<table border=\"1\" class=\"dataframe\">\n",
       "  <thead>\n",
       "    <tr style=\"text-align: right;\">\n",
       "      <th></th>\n",
       "      <th>transaction_id</th>\n",
       "      <th>Item_name</th>\n",
       "      <th>binary_value</th>\n",
       "    </tr>\n",
       "  </thead>\n",
       "  <tbody>\n",
       "    <tr>\n",
       "      <th>0</th>\n",
       "      <td>0</td>\n",
       "      <td>dishwashing</td>\n",
       "      <td>1</td>\n",
       "    </tr>\n",
       "    <tr>\n",
       "      <th>1</th>\n",
       "      <td>0</td>\n",
       "      <td>spaghetti sauce</td>\n",
       "      <td>1</td>\n",
       "    </tr>\n",
       "    <tr>\n",
       "      <th>2</th>\n",
       "      <td>1</td>\n",
       "      <td>poultry</td>\n",
       "      <td>1</td>\n",
       "    </tr>\n",
       "    <tr>\n",
       "      <th>3</th>\n",
       "      <td>1</td>\n",
       "      <td>pork</td>\n",
       "      <td>1</td>\n",
       "    </tr>\n",
       "    <tr>\n",
       "      <th>4</th>\n",
       "      <td>1</td>\n",
       "      <td>beef</td>\n",
       "      <td>1</td>\n",
       "    </tr>\n",
       "  </tbody>\n",
       "</table>\n",
       "</div>"
      ],
      "text/plain": [
       "   transaction_id        Item_name  binary_value\n",
       "0               0     dishwashing              1\n",
       "1               0  spaghetti sauce             1\n",
       "2               1          poultry             1\n",
       "3               1             pork             1\n",
       "4               1             beef             1"
      ]
     },
     "execution_count": 53,
     "metadata": {},
     "output_type": "execute_result"
    }
   ],
   "source": [
    "data_clustering.head()"
   ]
  },
  {
   "cell_type": "code",
   "execution_count": 54,
   "metadata": {},
   "outputs": [],
   "source": [
    "data_clustering = data_clustering.pivot(index='transaction_id', columns='Item_name').fillna(0)"
   ]
  },
  {
   "cell_type": "code",
   "execution_count": 55,
   "metadata": {},
   "outputs": [
    {
     "data": {
      "text/html": [
       "<div>\n",
       "<style scoped>\n",
       "    .dataframe tbody tr th:only-of-type {\n",
       "        vertical-align: middle;\n",
       "    }\n",
       "\n",
       "    .dataframe tbody tr th {\n",
       "        vertical-align: top;\n",
       "    }\n",
       "\n",
       "    .dataframe thead tr th {\n",
       "        text-align: left;\n",
       "    }\n",
       "\n",
       "    .dataframe thead tr:last-of-type th {\n",
       "        text-align: right;\n",
       "    }\n",
       "</style>\n",
       "<table border=\"1\" class=\"dataframe\">\n",
       "  <thead>\n",
       "    <tr>\n",
       "      <th></th>\n",
       "      <th colspan=\"11\" halign=\"left\">binary_value</th>\n",
       "    </tr>\n",
       "    <tr>\n",
       "      <th>Item_name</th>\n",
       "      <th>aluminum foil</th>\n",
       "      <th>apples</th>\n",
       "      <th>baby items</th>\n",
       "      <th>bagels</th>\n",
       "      <th>bananas</th>\n",
       "      <th>...</th>\n",
       "      <th>tea</th>\n",
       "      <th>toilet paper</th>\n",
       "      <th>tortillas</th>\n",
       "      <th>waffles</th>\n",
       "      <th>yogurt</th>\n",
       "    </tr>\n",
       "    <tr>\n",
       "      <th>transaction_id</th>\n",
       "      <th></th>\n",
       "      <th></th>\n",
       "      <th></th>\n",
       "      <th></th>\n",
       "      <th></th>\n",
       "      <th></th>\n",
       "      <th></th>\n",
       "      <th></th>\n",
       "      <th></th>\n",
       "      <th></th>\n",
       "      <th></th>\n",
       "    </tr>\n",
       "  </thead>\n",
       "  <tbody>\n",
       "    <tr>\n",
       "      <th>0</th>\n",
       "      <td>0.0</td>\n",
       "      <td>0.0</td>\n",
       "      <td>0.0</td>\n",
       "      <td>0.0</td>\n",
       "      <td>0.0</td>\n",
       "      <td>...</td>\n",
       "      <td>0.0</td>\n",
       "      <td>0.0</td>\n",
       "      <td>0.0</td>\n",
       "      <td>0.0</td>\n",
       "      <td>0.0</td>\n",
       "    </tr>\n",
       "    <tr>\n",
       "      <th>1</th>\n",
       "      <td>0.0</td>\n",
       "      <td>0.0</td>\n",
       "      <td>0.0</td>\n",
       "      <td>0.0</td>\n",
       "      <td>0.0</td>\n",
       "      <td>...</td>\n",
       "      <td>0.0</td>\n",
       "      <td>0.0</td>\n",
       "      <td>0.0</td>\n",
       "      <td>0.0</td>\n",
       "      <td>0.0</td>\n",
       "    </tr>\n",
       "    <tr>\n",
       "      <th>2</th>\n",
       "      <td>0.0</td>\n",
       "      <td>0.0</td>\n",
       "      <td>0.0</td>\n",
       "      <td>0.0</td>\n",
       "      <td>0.0</td>\n",
       "      <td>...</td>\n",
       "      <td>1.0</td>\n",
       "      <td>0.0</td>\n",
       "      <td>0.0</td>\n",
       "      <td>0.0</td>\n",
       "      <td>0.0</td>\n",
       "    </tr>\n",
       "    <tr>\n",
       "      <th>3</th>\n",
       "      <td>0.0</td>\n",
       "      <td>0.0</td>\n",
       "      <td>0.0</td>\n",
       "      <td>0.0</td>\n",
       "      <td>0.0</td>\n",
       "      <td>...</td>\n",
       "      <td>1.0</td>\n",
       "      <td>0.0</td>\n",
       "      <td>0.0</td>\n",
       "      <td>0.0</td>\n",
       "      <td>0.0</td>\n",
       "    </tr>\n",
       "    <tr>\n",
       "      <th>4</th>\n",
       "      <td>0.0</td>\n",
       "      <td>1.0</td>\n",
       "      <td>0.0</td>\n",
       "      <td>1.0</td>\n",
       "      <td>0.0</td>\n",
       "      <td>...</td>\n",
       "      <td>0.0</td>\n",
       "      <td>0.0</td>\n",
       "      <td>0.0</td>\n",
       "      <td>1.0</td>\n",
       "      <td>1.0</td>\n",
       "    </tr>\n",
       "  </tbody>\n",
       "</table>\n",
       "<p>5 rows × 48 columns</p>\n",
       "</div>"
      ],
      "text/plain": [
       "                binary_value                                   ...                                           \n",
       "Item_name      aluminum foil apples baby items bagels bananas  ...  tea toilet paper tortillas waffles yogurt\n",
       "transaction_id                                                 ...                                           \n",
       "0                        0.0    0.0        0.0    0.0     0.0  ...  0.0          0.0       0.0     0.0    0.0\n",
       "1                        0.0    0.0        0.0    0.0     0.0  ...  0.0          0.0       0.0     0.0    0.0\n",
       "2                        0.0    0.0        0.0    0.0     0.0  ...  1.0          0.0       0.0     0.0    0.0\n",
       "3                        0.0    0.0        0.0    0.0     0.0  ...  1.0          0.0       0.0     0.0    0.0\n",
       "4                        0.0    1.0        0.0    1.0     0.0  ...  0.0          0.0       0.0     1.0    1.0\n",
       "\n",
       "[5 rows x 48 columns]"
      ]
     },
     "execution_count": 55,
     "metadata": {},
     "output_type": "execute_result"
    }
   ],
   "source": [
    "data_clustering.head()"
   ]
  },
  {
   "cell_type": "code",
   "execution_count": 56,
   "metadata": {},
   "outputs": [
    {
     "name": "stdout",
     "output_type": "stream",
     "text": [
      "True\n"
     ]
    }
   ],
   "source": [
    "#let's check everything worked:  \n",
    "print( \n",
    "# of rows same as # transactions, \n",
    "data_clustering.shape[0] == purchase.shape[0] and\n",
    "# of columns same as # items\n",
    "data_clustering.shape[1] == len(np.unique(item_id)) and\n",
    "#since each row has 1 if an item was bought and 0 otherwise, sum of all its elements should be the same as sum purchase.item_count  \n",
    "data_clustering.values.sum() == purchase['item_count'].sum()\n",
    ")"
   ]
  },
  {
   "cell_type": "code",
   "execution_count": 59,
   "metadata": {},
   "outputs": [
    {
     "name": "stdout",
     "output_type": "stream",
     "text": [
      "<class 'pandas.core.frame.DataFrame'>\n",
      "Int64Index: 39474 entries, 0 to 39473\n",
      "Data columns (total 48 columns):\n",
      " #   Column                             Non-Null Count  Dtype  \n",
      "---  ------                             --------------  -----  \n",
      " 0   (binary_value, aluminum foil)      39474 non-null  float64\n",
      " 1   (binary_value, apples)             39474 non-null  float64\n",
      " 2   (binary_value, baby items)         39474 non-null  float64\n",
      " 3   (binary_value, bagels)             39474 non-null  float64\n",
      " 4   (binary_value, bananas)            39474 non-null  float64\n",
      " 5   (binary_value, beef)               39474 non-null  float64\n",
      " 6   (binary_value, berries)            39474 non-null  float64\n",
      " 7   (binary_value, broccoli)           39474 non-null  float64\n",
      " 8   (binary_value, butter)             39474 non-null  float64\n",
      " 9   (binary_value, canned vegetables)  39474 non-null  float64\n",
      " 10  (binary_value, carrots)            39474 non-null  float64\n",
      " 11  (binary_value, cauliflower)        39474 non-null  float64\n",
      " 12  (binary_value, cereals)            39474 non-null  float64\n",
      " 13  (binary_value, cheeses)            39474 non-null  float64\n",
      " 14  (binary_value, cherries)           39474 non-null  float64\n",
      " 15  (binary_value, coffee)             39474 non-null  float64\n",
      " 16  (binary_value, cucumbers)          39474 non-null  float64\n",
      " 17  (binary_value, dinner rolls)       39474 non-null  float64\n",
      " 18  (binary_value, dishwashing )       39474 non-null  float64\n",
      " 19  (binary_value, eggs)               39474 non-null  float64\n",
      " 20  (binary_value, flour)              39474 non-null  float64\n",
      " 21  (binary_value, frozen vegetables)  39474 non-null  float64\n",
      " 22  (binary_value, grapefruit)         39474 non-null  float64\n",
      " 23  (binary_value, hand soap)          39474 non-null  float64\n",
      " 24  (binary_value, ice cream)          39474 non-null  float64\n",
      " 25  (binary_value, juice)              39474 non-null  float64\n",
      " 26  (binary_value, ketchup)            39474 non-null  float64\n",
      " 27  (binary_value, laundry detergent)  39474 non-null  float64\n",
      " 28  (binary_value, lettuce)            39474 non-null  float64\n",
      " 29  (binary_value, milk)               39474 non-null  float64\n",
      " 30  (binary_value, paper towels)       39474 non-null  float64\n",
      " 31  (binary_value, pasta)              39474 non-null  float64\n",
      " 32  (binary_value, pet items)          39474 non-null  float64\n",
      " 33  (binary_value, pork)               39474 non-null  float64\n",
      " 34  (binary_value, poultry)            39474 non-null  float64\n",
      " 35  (binary_value, sandwich bags)      39474 non-null  float64\n",
      " 36  (binary_value, sandwich loaves)    39474 non-null  float64\n",
      " 37  (binary_value, shampoo)            39474 non-null  float64\n",
      " 38  (binary_value, shaving cream)      39474 non-null  float64\n",
      " 39  (binary_value, soap)               39474 non-null  float64\n",
      " 40  (binary_value, soda)               39474 non-null  float64\n",
      " 41  (binary_value, spaghetti sauce)    39474 non-null  float64\n",
      " 42  (binary_value, sugar)              39474 non-null  float64\n",
      " 43  (binary_value, tea)                39474 non-null  float64\n",
      " 44  (binary_value, toilet paper)       39474 non-null  float64\n",
      " 45  (binary_value, tortillas)          39474 non-null  float64\n",
      " 46  (binary_value, waffles)            39474 non-null  float64\n",
      " 47  (binary_value, yogurt)             39474 non-null  float64\n",
      "dtypes: float64(48)\n",
      "memory usage: 14.8 MB\n"
     ]
    }
   ],
   "source": [
    "data_clustering.info()"
   ]
  },
  {
   "cell_type": "code",
   "execution_count": 66,
   "metadata": {},
   "outputs": [],
   "source": [
    "from sklearn.metrics.pairwise import pairwise_distances"
   ]
  },
  {
   "cell_type": "code",
   "execution_count": 67,
   "metadata": {},
   "outputs": [],
   "source": [
    "#create correlation matrix, other distances would work similarly. We will later cluster on this\n",
    "data_clustering_corr = pairwise_distances(data_clustering.T, metric=\"correlation\")"
   ]
  },
  {
   "cell_type": "markdown",
   "metadata": {},
   "source": [
    "With k-means, we need to choose the number of clusters before building the model. A common way to approach this is: Define from a product standpoint a range of cluster numbers that makes sense. I.e. the output of this challenge are aisles in a grocery store. It would make no sense to have too many or too few because it would confuse customers either way. In real life, this step is probably the most important one and a lot of data science work and design discussions go into this to figure out a range of acceptable cluster numbers. Here we don’t have much information, so we just pick numbers that kinda make sense. We have 48 items and say, on an average, we would like to have between 7 and 4 items per aisle. Therefore, we will try between 6 and 12 clusters.\n",
    "\n",
    "Build k-means for all the possible cluster numbers, look at k-means loss, and choose the optimal cluster number accordingly"
   ]
  },
  {
   "cell_type": "code",
   "execution_count": 68,
   "metadata": {},
   "outputs": [],
   "source": [
    "from sklearn.cluster import KMeans\n",
    "  \n",
    "#now let's build different models using kmeans and check inertia of each.\n",
    "cluster_inertia = [] # tells us how spread out are elements within the same cluster. The smaller the better.\n",
    "for i in range(6,13): # We chose this range based on product-related considerations\n",
    "    kmeans = KMeans(n_clusters=i, random_state=99)\n",
    "    kmeans.fit(data_clustering_corr)\n",
    "    cluster_inertia.append(kmeans.inertia_)"
   ]
  },
  {
   "cell_type": "code",
   "execution_count": 72,
   "metadata": {},
   "outputs": [
    {
     "data": {
      "text/plain": [
       "Text(0, 0.5, 'Inertia')"
      ]
     },
     "execution_count": 72,
     "metadata": {},
     "output_type": "execute_result"
    },
    {
     "data": {
      "image/png": "[encoded data removed]",
      "text/plain": [
       "<Figure size 432x288 with 1 Axes>"
      ]
     },
     "metadata": {
      "needs_background": "light"
     },
     "output_type": "display_data"
    }
   ],
   "source": [
    "#let's plot them\n",
    "plt.plot(range(6,13), cluster_inertia)\n",
    "plt.xlabel(\"Number of clusters\")\n",
    "plt.ylabel(\"Inertia\")"
   ]
  },
  {
   "cell_type": "markdown",
   "metadata": {},
   "source": [
    "There doesn’t appear to be any major inflection point in the plot. So we will choose 12."
   ]
  },
  {
   "cell_type": "code",
   "execution_count": 71,
   "metadata": {},
   "outputs": [
    {
     "data": {
      "text/html": [
       "<div>\n",
       "<style scoped>\n",
       "    .dataframe tbody tr th:only-of-type {\n",
       "        vertical-align: middle;\n",
       "    }\n",
       "\n",
       "    .dataframe tbody tr th {\n",
       "        vertical-align: top;\n",
       "    }\n",
       "\n",
       "    .dataframe thead th {\n",
       "        text-align: right;\n",
       "    }\n",
       "</style>\n",
       "<table border=\"1\" class=\"dataframe\">\n",
       "  <thead>\n",
       "    <tr style=\"text-align: right;\">\n",
       "      <th></th>\n",
       "      <th>cluster</th>\n",
       "      <th>product_names</th>\n",
       "    </tr>\n",
       "  </thead>\n",
       "  <tbody>\n",
       "    <tr>\n",
       "      <th>18</th>\n",
       "      <td>0</td>\n",
       "      <td>dishwashing</td>\n",
       "    </tr>\n",
       "    <tr>\n",
       "      <th>27</th>\n",
       "      <td>0</td>\n",
       "      <td>laundry detergent</td>\n",
       "    </tr>\n",
       "    <tr>\n",
       "      <th>1</th>\n",
       "      <td>1</td>\n",
       "      <td>apples</td>\n",
       "    </tr>\n",
       "    <tr>\n",
       "      <th>4</th>\n",
       "      <td>1</td>\n",
       "      <td>bananas</td>\n",
       "    </tr>\n",
       "    <tr>\n",
       "      <th>22</th>\n",
       "      <td>1</td>\n",
       "      <td>grapefruit</td>\n",
       "    </tr>\n",
       "    <tr>\n",
       "      <th>6</th>\n",
       "      <td>1</td>\n",
       "      <td>berries</td>\n",
       "    </tr>\n",
       "    <tr>\n",
       "      <th>14</th>\n",
       "      <td>1</td>\n",
       "      <td>cherries</td>\n",
       "    </tr>\n",
       "    <tr>\n",
       "      <th>29</th>\n",
       "      <td>2</td>\n",
       "      <td>milk</td>\n",
       "    </tr>\n",
       "    <tr>\n",
       "      <th>19</th>\n",
       "      <td>2</td>\n",
       "      <td>eggs</td>\n",
       "    </tr>\n",
       "    <tr>\n",
       "      <th>13</th>\n",
       "      <td>2</td>\n",
       "      <td>cheeses</td>\n",
       "    </tr>\n",
       "    <tr>\n",
       "      <th>47</th>\n",
       "      <td>2</td>\n",
       "      <td>yogurt</td>\n",
       "    </tr>\n",
       "    <tr>\n",
       "      <th>8</th>\n",
       "      <td>2</td>\n",
       "      <td>butter</td>\n",
       "    </tr>\n",
       "    <tr>\n",
       "      <th>36</th>\n",
       "      <td>3</td>\n",
       "      <td>sandwich loaves</td>\n",
       "    </tr>\n",
       "    <tr>\n",
       "      <th>45</th>\n",
       "      <td>3</td>\n",
       "      <td>tortillas</td>\n",
       "    </tr>\n",
       "    <tr>\n",
       "      <th>17</th>\n",
       "      <td>3</td>\n",
       "      <td>dinner rolls</td>\n",
       "    </tr>\n",
       "    <tr>\n",
       "      <th>3</th>\n",
       "      <td>3</td>\n",
       "      <td>bagels</td>\n",
       "    </tr>\n",
       "    <tr>\n",
       "      <th>34</th>\n",
       "      <td>4</td>\n",
       "      <td>poultry</td>\n",
       "    </tr>\n",
       "    <tr>\n",
       "      <th>33</th>\n",
       "      <td>4</td>\n",
       "      <td>pork</td>\n",
       "    </tr>\n",
       "    <tr>\n",
       "      <th>5</th>\n",
       "      <td>4</td>\n",
       "      <td>beef</td>\n",
       "    </tr>\n",
       "    <tr>\n",
       "      <th>28</th>\n",
       "      <td>5</td>\n",
       "      <td>lettuce</td>\n",
       "    </tr>\n",
       "    <tr>\n",
       "      <th>10</th>\n",
       "      <td>5</td>\n",
       "      <td>carrots</td>\n",
       "    </tr>\n",
       "    <tr>\n",
       "      <th>11</th>\n",
       "      <td>5</td>\n",
       "      <td>cauliflower</td>\n",
       "    </tr>\n",
       "    <tr>\n",
       "      <th>7</th>\n",
       "      <td>5</td>\n",
       "      <td>broccoli</td>\n",
       "    </tr>\n",
       "    <tr>\n",
       "      <th>16</th>\n",
       "      <td>5</td>\n",
       "      <td>cucumbers</td>\n",
       "    </tr>\n",
       "    <tr>\n",
       "      <th>25</th>\n",
       "      <td>6</td>\n",
       "      <td>juice</td>\n",
       "    </tr>\n",
       "    <tr>\n",
       "      <th>40</th>\n",
       "      <td>6</td>\n",
       "      <td>soda</td>\n",
       "    </tr>\n",
       "    <tr>\n",
       "      <th>15</th>\n",
       "      <td>6</td>\n",
       "      <td>coffee</td>\n",
       "    </tr>\n",
       "    <tr>\n",
       "      <th>43</th>\n",
       "      <td>6</td>\n",
       "      <td>tea</td>\n",
       "    </tr>\n",
       "    <tr>\n",
       "      <th>26</th>\n",
       "      <td>7</td>\n",
       "      <td>ketchup</td>\n",
       "    </tr>\n",
       "    <tr>\n",
       "      <th>41</th>\n",
       "      <td>7</td>\n",
       "      <td>spaghetti sauce</td>\n",
       "    </tr>\n",
       "    <tr>\n",
       "      <th>9</th>\n",
       "      <td>7</td>\n",
       "      <td>canned vegetables</td>\n",
       "    </tr>\n",
       "    <tr>\n",
       "      <th>24</th>\n",
       "      <td>8</td>\n",
       "      <td>ice cream</td>\n",
       "    </tr>\n",
       "    <tr>\n",
       "      <th>2</th>\n",
       "      <td>8</td>\n",
       "      <td>baby items</td>\n",
       "    </tr>\n",
       "    <tr>\n",
       "      <th>42</th>\n",
       "      <td>8</td>\n",
       "      <td>sugar</td>\n",
       "    </tr>\n",
       "    <tr>\n",
       "      <th>32</th>\n",
       "      <td>8</td>\n",
       "      <td>pet items</td>\n",
       "    </tr>\n",
       "    <tr>\n",
       "      <th>21</th>\n",
       "      <td>8</td>\n",
       "      <td>frozen vegetables</td>\n",
       "    </tr>\n",
       "    <tr>\n",
       "      <th>44</th>\n",
       "      <td>9</td>\n",
       "      <td>toilet paper</td>\n",
       "    </tr>\n",
       "    <tr>\n",
       "      <th>0</th>\n",
       "      <td>9</td>\n",
       "      <td>aluminum foil</td>\n",
       "    </tr>\n",
       "    <tr>\n",
       "      <th>35</th>\n",
       "      <td>9</td>\n",
       "      <td>sandwich bags</td>\n",
       "    </tr>\n",
       "    <tr>\n",
       "      <th>30</th>\n",
       "      <td>9</td>\n",
       "      <td>paper towels</td>\n",
       "    </tr>\n",
       "    <tr>\n",
       "      <th>31</th>\n",
       "      <td>10</td>\n",
       "      <td>pasta</td>\n",
       "    </tr>\n",
       "    <tr>\n",
       "      <th>46</th>\n",
       "      <td>10</td>\n",
       "      <td>waffles</td>\n",
       "    </tr>\n",
       "    <tr>\n",
       "      <th>20</th>\n",
       "      <td>10</td>\n",
       "      <td>flour</td>\n",
       "    </tr>\n",
       "    <tr>\n",
       "      <th>12</th>\n",
       "      <td>10</td>\n",
       "      <td>cereals</td>\n",
       "    </tr>\n",
       "    <tr>\n",
       "      <th>38</th>\n",
       "      <td>11</td>\n",
       "      <td>shaving cream</td>\n",
       "    </tr>\n",
       "    <tr>\n",
       "      <th>39</th>\n",
       "      <td>11</td>\n",
       "      <td>soap</td>\n",
       "    </tr>\n",
       "    <tr>\n",
       "      <th>37</th>\n",
       "      <td>11</td>\n",
       "      <td>shampoo</td>\n",
       "    </tr>\n",
       "    <tr>\n",
       "      <th>23</th>\n",
       "      <td>11</td>\n",
       "      <td>hand soap</td>\n",
       "    </tr>\n",
       "  </tbody>\n",
       "</table>\n",
       "</div>"
      ],
      "text/plain": [
       "    cluster      product_names\n",
       "18        0       dishwashing \n",
       "27        0  laundry detergent\n",
       "1         1             apples\n",
       "4         1            bananas\n",
       "22        1         grapefruit\n",
       "6         1            berries\n",
       "14        1           cherries\n",
       "29        2               milk\n",
       "19        2               eggs\n",
       "13        2            cheeses\n",
       "47        2             yogurt\n",
       "8         2             butter\n",
       "36        3    sandwich loaves\n",
       "45        3          tortillas\n",
       "17        3       dinner rolls\n",
       "3         3             bagels\n",
       "34        4            poultry\n",
       "33        4               pork\n",
       "5         4               beef\n",
       "28        5            lettuce\n",
       "10        5            carrots\n",
       "11        5        cauliflower\n",
       "7         5           broccoli\n",
       "16        5          cucumbers\n",
       "25        6              juice\n",
       "40        6               soda\n",
       "15        6             coffee\n",
       "43        6                tea\n",
       "26        7            ketchup\n",
       "41        7    spaghetti sauce\n",
       "9         7  canned vegetables\n",
       "24        8          ice cream\n",
       "2         8         baby items\n",
       "42        8              sugar\n",
       "32        8          pet items\n",
       "21        8  frozen vegetables\n",
       "44        9       toilet paper\n",
       "0         9      aluminum foil\n",
       "35        9      sandwich bags\n",
       "30        9       paper towels\n",
       "31       10              pasta\n",
       "46       10            waffles\n",
       "20       10              flour\n",
       "12       10            cereals\n",
       "38       11      shaving cream\n",
       "39       11               soap\n",
       "37       11            shampoo\n",
       "23       11          hand soap"
      ]
     },
     "execution_count": 71,
     "metadata": {},
     "output_type": "execute_result"
    }
   ],
   "source": [
    "#Build k-means with 12 clusters\n",
    "kmeans = KMeans(n_clusters=12, random_state=99)\n",
    "#fit the data\n",
    "clusters = kmeans.fit_predict(data_clustering_corr)\n",
    "  \n",
    "#check the final clusters\n",
    "final_clusters = pd.DataFrame({'cluster':clusters, 'product_names':data_clustering.columns.get_level_values(1)})\n",
    "final_clusters.sort_values('cluster')"
   ]
  },
  {
   "cell_type": "code",
   "execution_count": 73,
   "metadata": {},
   "outputs": [
    {
     "data": {
      "text/plain": [
       "Index(['aluminum foil', 'apples', 'baby items', 'bagels', 'bananas', 'beef', 'berries', 'broccoli', 'butter', 'canned vegetables', 'carrots', 'cauliflower', 'cereals', 'cheeses', 'cherries', 'coffee', 'cucumbers', 'dinner rolls', 'dishwashing ', 'eggs', 'flour', 'frozen vegetables', 'grapefruit', 'hand soap', 'ice cream', 'juice', 'ketchup',\n",
       "       'laundry detergent', 'lettuce', 'milk', 'paper towels', 'pasta', 'pet items', 'pork', 'poultry', 'sandwich bags', 'sandwich loaves', 'shampoo', 'shaving cream', 'soap', 'soda', 'spaghetti sauce', 'sugar', 'tea', 'toilet paper', 'tortillas', 'waffles', 'yogurt'],\n",
       "      dtype='object', name='Item_name')"
      ]
     },
     "execution_count": 73,
     "metadata": {},
     "output_type": "execute_result"
    }
   ],
   "source": [
    "data_clustering.columns.get_level_values(1)"
   ]
  },
  {
   "cell_type": "markdown",
   "metadata": {},
   "source": [
    "# Conclusion"
   ]
  },
  {
   "cell_type": "markdown",
   "metadata": {},
   "source": [
    "Overall, the clusters make sense. So we are good. Possible and fairly common next steps after building k-means are:\n",
    "\n",
    "If we end up with some clusters with too few events, that might not make sense from a product standpoint. If so, we can put them together and label this cluster “other”\n",
    "\n",
    "Look at the distance of each element from its cluster centroid. If this value is > than a certain threshold, assign that element to the “other” cluster"
   ]
  }
 ],
 "metadata": {
  "kernelspec": {
   "display_name": "Python 3",
   "language": "python",
   "name": "python3"
  },
  "language_info": {
   "codemirror_mode": {
    "name": "ipython",
    "version": 3
   },
   "file_extension": ".py",
   "mimetype": "text/x-python",
   "name": "python",
   "nbconvert_exporter": "python",
   "pygments_lexer": "ipython3",
   "version": "3.7.3"
  }
 },
 "nbformat": 4,
 "nbformat_minor": 2
}
